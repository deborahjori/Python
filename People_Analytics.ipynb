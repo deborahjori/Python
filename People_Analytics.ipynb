{
  "nbformat": 4,
  "nbformat_minor": 0,
  "metadata": {
    "colab": {
      "provenance": []
    },
    "kernelspec": {
      "name": "python3",
      "display_name": "Python 3"
    },
    "language_info": {
      "name": "python"
    }
  },
  "cells": [
    {
      "cell_type": "markdown",
      "source": [
        "Importando bibliotecas\n"
      ],
      "metadata": {
        "id": "ipybI6j6lKew"
      }
    },
    {
      "cell_type": "code",
      "execution_count": null,
      "metadata": {
        "id": "HWdEoUfpcW4t"
      },
      "outputs": [],
      "source": [
        "import pandas as pd\n",
        "import numpy as np\n",
        "from datetime import datetime"
      ]
    },
    {
      "cell_type": "markdown",
      "source": [
        "Importando base de dados"
      ],
      "metadata": {
        "id": "CL5reFq9lT3U"
      }
    },
    {
      "cell_type": "code",
      "source": [
        "from google.colab import drive\n",
        "drive.mount('/content/drive')"
      ],
      "metadata": {
        "id": "jkk-VAp2eJ0S"
      },
      "execution_count": null,
      "outputs": []
    },
    {
      "cell_type": "markdown",
      "source": [
        "Importando datasets com as planilhas do arquivo\n"
      ],
      "metadata": {
        "id": "ayiKogHof8tT"
      }
    },
    {
      "cell_type": "code",
      "source": [
        "dados1 = pd.read_excel('/content/drive/MyDrive/Colab Notebooks/Base_PeopleAnalyticsPerformance.xlsx', sheet_name = 0)"
      ],
      "metadata": {
        "id": "Js2seuCUY0z3"
      },
      "execution_count": null,
      "outputs": []
    },
    {
      "cell_type": "code",
      "source": [
        "dados2 = pd.read_excel('/content/drive/MyDrive/Colab Notebooks/Base_PeopleAnalyticsPerformance.xlsx', sheet_name = 1)"
      ],
      "metadata": {
        "id": "R4AtZTsHYpyo"
      },
      "execution_count": null,
      "outputs": []
    },
    {
      "cell_type": "code",
      "source": [
        "dados3 = pd.read_excel('/content/drive/MyDrive/Colab Notebooks/Base_PeopleAnalyticsPerformance.xlsx', sheet_name = 2)"
      ],
      "metadata": {
        "id": "_ECneYopY_39"
      },
      "execution_count": null,
      "outputs": []
    },
    {
      "cell_type": "markdown",
      "source": [
        "Unindo os datasets 1 e 2, utilizando chave matricula"
      ],
      "metadata": {
        "id": "nueX4jqBlYE7"
      }
    },
    {
      "cell_type": "code",
      "source": [
        "dados_1_2 = pd.merge(dados1, dados2, how = 'outer', on = 'matricula')"
      ],
      "metadata": {
        "id": "FD1UvvMAVIQc"
      },
      "execution_count": null,
      "outputs": []
    },
    {
      "cell_type": "code",
      "source": [
        "dados_1_2.head(5)"
      ],
      "metadata": {
        "id": "5p76D0DGNQm0"
      },
      "execution_count": null,
      "outputs": []
    },
    {
      "cell_type": "markdown",
      "source": [
        "Unindo datasets 1e2 com o 3, gerando um único datasets, considerando como chaves colunas ('Nível de Cargo', 'Cluster de Cargo', 'Área')"
      ],
      "metadata": {
        "id": "4ym34co6gMZ4"
      }
    },
    {
      "cell_type": "code",
      "source": [
        "dados = pd.merge(dados_1_2, dados3, how ='outer', on = ('Nível de Cargo', 'Cluster de Cargo', 'Área'))"
      ],
      "metadata": {
        "id": "lgbugXISaboK"
      },
      "execution_count": null,
      "outputs": []
    },
    {
      "cell_type": "code",
      "source": [
        "dados.head(5)"
      ],
      "metadata": {
        "id": "TAFdIcVWasQb"
      },
      "execution_count": null,
      "outputs": []
    },
    {
      "cell_type": "markdown",
      "source": [
        "# Informações da Base"
      ],
      "metadata": {
        "id": "tOUZBJuIlmM8"
      }
    },
    {
      "cell_type": "code",
      "source": [
        "dados.info()"
      ],
      "metadata": {
        "id": "-hNMkenHbBd9"
      },
      "execution_count": null,
      "outputs": []
    },
    {
      "cell_type": "code",
      "source": [
        "tipos_de_dados = pd.DataFrame(dados.dtypes, columns = ['Tipos de Dados'])\n",
        "tipos_de_dados.columns.name = 'Variáveis'\n",
        "tipos_de_dados    ##Consulta dos tipos de dados, baseados nas variáveis(colunas)"
      ],
      "metadata": {
        "id": "FfwW7wa0iaUi"
      },
      "execution_count": null,
      "outputs": []
    },
    {
      "cell_type": "code",
      "source": [
        "dados.shape\n"
      ],
      "metadata": {
        "id": "YZ_Kg3Sbiz3q"
      },
      "execution_count": null,
      "outputs": []
    },
    {
      "cell_type": "code",
      "source": [
        "print('A base de dados apresenta {} linhas e {} variáveis'.format(dados.shape[0] , dados.shape[1]))"
      ],
      "metadata": {
        "id": "jwStWVh8jDeq"
      },
      "execution_count": null,
      "outputs": []
    },
    {
      "cell_type": "code",
      "source": [
        "ids_matriculas = dados['matricula']"
      ],
      "metadata": {
        "id": "IKK2iy4sN3c9"
      },
      "execution_count": null,
      "outputs": []
    },
    {
      "cell_type": "code",
      "source": [
        "type(ids_matriculas)"
      ],
      "metadata": {
        "id": "hvYEIZ02N3i0"
      },
      "execution_count": null,
      "outputs": []
    },
    {
      "cell_type": "code",
      "source": [
        "dados['matricula'].value_counts() ## Verificando duplicidade em matricula"
      ],
      "metadata": {
        "id": "JNY2r3hDN3sg"
      },
      "execution_count": null,
      "outputs": []
    },
    {
      "cell_type": "markdown",
      "source": [
        "Analisando coluna Cargo"
      ],
      "metadata": {
        "id": "EpsrOvc4ltXt"
      }
    },
    {
      "cell_type": "code",
      "source": [
        "cargos = dados['Cargo']"
      ],
      "metadata": {
        "id": "3MLId_HfjPJy"
      },
      "execution_count": null,
      "outputs": []
    },
    {
      "cell_type": "code",
      "source": [
        "type(cargos)"
      ],
      "metadata": {
        "id": "eGtlbkODjvGK"
      },
      "execution_count": null,
      "outputs": []
    },
    {
      "cell_type": "markdown",
      "source": [
        "Distinct de cargos\n"
      ],
      "metadata": {
        "id": "cMXMhv6jhArX"
      }
    },
    {
      "cell_type": "code",
      "source": [
        "cargos.drop_duplicates()\n"
      ],
      "metadata": {
        "id": "Yvm1BL82j2wz"
      },
      "execution_count": null,
      "outputs": []
    },
    {
      "cell_type": "code",
      "source": [
        "dados['Cargo'].value_counts()"
      ],
      "metadata": {
        "id": "UaGTtU73lzMb"
      },
      "execution_count": null,
      "outputs": []
    },
    {
      "cell_type": "code",
      "source": [
        "#dados.replace('Assistente de suporte I', 'Assistente de Suporte I',inplace = True) ## padronizando nomenclatura para Assistente de Suporte I"
      ],
      "metadata": {
        "id": "N2SfpDHU4KQX"
      },
      "execution_count": null,
      "outputs": []
    },
    {
      "cell_type": "code",
      "source": [
        "#dados.replace('Assistente de suporte II', 'Assistente de Suporte II',inplace = True) ## padronizando nomenclatura para Assistente de Suporte II"
      ],
      "metadata": {
        "id": "AD8EjdDu55VD"
      },
      "execution_count": null,
      "outputs": []
    },
    {
      "cell_type": "code",
      "source": [
        "dados['Cargo'].value_counts()\n"
      ],
      "metadata": {
        "id": "yq1Vxe025Bln"
      },
      "execution_count": null,
      "outputs": []
    },
    {
      "cell_type": "markdown",
      "source": [
        "Analisando coluna Cluster de Cargos"
      ],
      "metadata": {
        "id": "CZluWJKwl0b0"
      }
    },
    {
      "cell_type": "code",
      "source": [
        "cluster_cargos = dados['Cluster de Cargo']"
      ],
      "metadata": {
        "id": "FstTXJuFkp_C"
      },
      "execution_count": null,
      "outputs": []
    },
    {
      "cell_type": "code",
      "source": [
        "cluster_cargos.drop_duplicates()\n"
      ],
      "metadata": {
        "id": "N0DpYWLCk-a8"
      },
      "execution_count": null,
      "outputs": []
    },
    {
      "cell_type": "markdown",
      "source": [
        "Analisando coluna Nível"
      ],
      "metadata": {
        "id": "jBvo15aQoeA7"
      }
    },
    {
      "cell_type": "code",
      "source": [
        "nivel_cargo = dados['Nível de Cargo']"
      ],
      "metadata": {
        "id": "11gIq8BNoyib"
      },
      "execution_count": null,
      "outputs": []
    },
    {
      "cell_type": "code",
      "source": [
        "nivel_cargo.drop_duplicates()\n"
      ],
      "metadata": {
        "id": "QgFu0zKAoyrp"
      },
      "execution_count": null,
      "outputs": []
    },
    {
      "cell_type": "code",
      "source": [
        "dados['Nível de Cargo'].value_counts()\n"
      ],
      "metadata": {
        "id": "pSCyLI30pDk2"
      },
      "execution_count": null,
      "outputs": []
    },
    {
      "cell_type": "markdown",
      "source": [
        "Analisando coluna Gênero"
      ],
      "metadata": {
        "id": "O2ow2otMpPj4"
      }
    },
    {
      "cell_type": "code",
      "source": [
        "genero = dados['Gênero']"
      ],
      "metadata": {
        "id": "2RtCqI6dpTh0"
      },
      "execution_count": null,
      "outputs": []
    },
    {
      "cell_type": "code",
      "source": [
        "genero.drop_duplicates()\n"
      ],
      "metadata": {
        "id": "kFvkAX6jpTqJ"
      },
      "execution_count": null,
      "outputs": []
    },
    {
      "cell_type": "code",
      "source": [
        "dados['Gênero'].value_counts()"
      ],
      "metadata": {
        "id": "qonhmadtpgOi"
      },
      "execution_count": null,
      "outputs": []
    },
    {
      "cell_type": "code",
      "source": [],
      "metadata": {
        "id": "R1sWLPUrvf7M"
      },
      "execution_count": null,
      "outputs": []
    },
    {
      "cell_type": "markdown",
      "source": [
        "Analisando coluna Idade"
      ],
      "metadata": {
        "id": "ZYLQJO-7lI4d"
      }
    },
    {
      "cell_type": "code",
      "source": [
        "dados.Idade.min() ##Idade mínima"
      ],
      "metadata": {
        "id": "tpPJaV8Jpsjt"
      },
      "execution_count": null,
      "outputs": []
    },
    {
      "cell_type": "code",
      "source": [
        "dados.Idade.max() ##Idade máxima"
      ],
      "metadata": {
        "id": "ORziVlvuptjc"
      },
      "execution_count": null,
      "outputs": []
    },
    {
      "cell_type": "code",
      "source": [
        "dados.Idade.mean().round() ##Média de Idade \n"
      ],
      "metadata": {
        "id": "dQFOO4ebp4iF"
      },
      "execution_count": null,
      "outputs": []
    },
    {
      "cell_type": "code",
      "source": [
        "print('Idade de %s até %s anos' % (dados.Idade.min(), dados.Idade.max()))"
      ],
      "metadata": {
        "id": "q4JNHrSawA_n"
      },
      "execution_count": null,
      "outputs": []
    },
    {
      "cell_type": "markdown",
      "source": [
        "Analisando coluna Data de Admissão"
      ],
      "metadata": {
        "id": "GqTuiquvqRKd"
      }
    },
    {
      "cell_type": "code",
      "source": [
        "admissao = dados['Data de Admissão']"
      ],
      "metadata": {
        "id": "uC2YhKhtqZvC"
      },
      "execution_count": null,
      "outputs": []
    },
    {
      "cell_type": "code",
      "source": [
        "admissao.drop_duplicates()"
      ],
      "metadata": {
        "id": "riu06qlXqygN"
      },
      "execution_count": null,
      "outputs": []
    },
    {
      "cell_type": "code",
      "source": [
        "dados['Data de Admissão'].value_counts()"
      ],
      "metadata": {
        "id": "3UO6JfwnqysF"
      },
      "execution_count": null,
      "outputs": []
    },
    {
      "cell_type": "markdown",
      "source": [
        "Analisando coluna Data última promoção\n"
      ],
      "metadata": {
        "id": "gkjoRLdIrEoZ"
      }
    },
    {
      "cell_type": "code",
      "source": [
        "dados['Data última promoção'].value_counts()\n"
      ],
      "metadata": {
        "id": "FpCaR-grrOP1"
      },
      "execution_count": null,
      "outputs": []
    },
    {
      "cell_type": "markdown",
      "source": [
        "Considerando data de admissão aos campos nulos de Data da última promoção"
      ],
      "metadata": {
        "id": "kOCpYhjnhZHs"
      }
    },
    {
      "cell_type": "code",
      "source": [
        "dataatual = datetime.today()\n",
        "dados.loc[dados[\"Data última promoção\"].isna(),\"Data última promoção\"] = dados[dados[\"Data última promoção\"].isna()][\"Data de Admissão\"]\n",
        "\n",
        "dados['Intervalo da Promoção'] = dataatual - dados['Data última promoção'] "
      ],
      "metadata": {
        "id": "NwPbhWOR5i8y"
      },
      "execution_count": null,
      "outputs": []
    },
    {
      "cell_type": "code",
      "source": [],
      "metadata": {
        "id": "DO-1Rs-3sn5q"
      },
      "execution_count": null,
      "outputs": []
    },
    {
      "cell_type": "code",
      "source": [
        "dados.head(5)\n"
      ],
      "metadata": {
        "id": "slAnoM3bxKXN"
      },
      "execution_count": null,
      "outputs": []
    },
    {
      "cell_type": "markdown",
      "source": [
        "Criando Nova Coluna ( Intervalo da Promoção em relação a admissão, em dias)\n"
      ],
      "metadata": {
        "id": "rFQe--e2rwzG"
      }
    },
    {
      "cell_type": "code",
      "source": [
        "dados['Intervalo da Promoção'] = dados['Intervalo da Promoção'].astype(\"timedelta64[D]\")"
      ],
      "metadata": {
        "id": "9H0PW3BqzSB3"
      },
      "execution_count": null,
      "outputs": []
    },
    {
      "cell_type": "markdown",
      "source": [
        "Formatando datas"
      ],
      "metadata": {
        "id": "rLDHBQE5ccIQ"
      }
    },
    {
      "cell_type": "code",
      "source": [
        "dados['Data de Admissão'] = dados['Data de Admissão'].dt.strftime('%d/%m/%Y')\n"
      ],
      "metadata": {
        "id": "B7aMJVvk2wV8"
      },
      "execution_count": null,
      "outputs": []
    },
    {
      "cell_type": "code",
      "source": [
        "dados['Data última promoção'] = dados['Data última promoção'].dt.strftime('%d/%m/%Y')"
      ],
      "metadata": {
        "id": "4ATZOvn93Obq"
      },
      "execution_count": null,
      "outputs": []
    },
    {
      "cell_type": "code",
      "source": [
        "dados.head(5)\n"
      ],
      "metadata": {
        "id": "aCvYQboKj-vR"
      },
      "execution_count": null,
      "outputs": []
    },
    {
      "cell_type": "markdown",
      "source": [
        "Analisando Coluna tarefas"
      ],
      "metadata": {
        "id": "AYrYlS22d35J"
      }
    },
    {
      "cell_type": "code",
      "source": [
        "dados.tarefas.min()"
      ],
      "metadata": {
        "id": "dqvpM9w6xBRz"
      },
      "execution_count": null,
      "outputs": []
    },
    {
      "cell_type": "code",
      "source": [
        "dados.tarefas.max()\n"
      ],
      "metadata": {
        "id": "xr0RC0AMdRvG"
      },
      "execution_count": null,
      "outputs": []
    },
    {
      "cell_type": "code",
      "source": [
        "dados.tarefas.mean().round()\n"
      ],
      "metadata": {
        "id": "05G7IuCzdnfG"
      },
      "execution_count": null,
      "outputs": []
    },
    {
      "cell_type": "markdown",
      "source": [
        "Analisando coluna qualidade"
      ],
      "metadata": {
        "id": "PWoHNSmdebmI"
      }
    },
    {
      "cell_type": "code",
      "source": [
        "dados.qualidade.min()"
      ],
      "metadata": {
        "id": "7ImGRQk5egX-"
      },
      "execution_count": null,
      "outputs": []
    },
    {
      "cell_type": "code",
      "source": [
        "dados.qualidade.max()\n"
      ],
      "metadata": {
        "id": "fs5BRWcJegi5"
      },
      "execution_count": null,
      "outputs": []
    },
    {
      "cell_type": "code",
      "source": [
        "dados.qualidade.mean().round()\n"
      ],
      "metadata": {
        "id": "Z0sMZLdCen_m"
      },
      "execution_count": null,
      "outputs": []
    },
    {
      "cell_type": "markdown",
      "source": [
        "Analisando coluna reincidencia"
      ],
      "metadata": {
        "id": "hxQwXc2mey-o"
      }
    },
    {
      "cell_type": "code",
      "source": [
        "dados.reincidencia.min()"
      ],
      "metadata": {
        "id": "6zJDaSI3e2-8"
      },
      "execution_count": null,
      "outputs": []
    },
    {
      "cell_type": "code",
      "source": [
        "dados.reincidencia.max()\n"
      ],
      "metadata": {
        "id": "7-_tMiyOe3GP"
      },
      "execution_count": null,
      "outputs": []
    },
    {
      "cell_type": "code",
      "source": [
        "dados.reincidencia.median()"
      ],
      "metadata": {
        "id": "spl9aT_Ke3Nr"
      },
      "execution_count": null,
      "outputs": []
    },
    {
      "cell_type": "markdown",
      "source": [
        "Analisando coluna avaliação_gestor"
      ],
      "metadata": {
        "id": "Mk1BNryvd85c"
      }
    },
    {
      "cell_type": "code",
      "source": [
        "dados.avaliacao_gestor.min()\n"
      ],
      "metadata": {
        "id": "ETkXE9LxdpjW"
      },
      "execution_count": null,
      "outputs": []
    },
    {
      "cell_type": "code",
      "source": [
        "dados.avaliacao_gestor.max()\n"
      ],
      "metadata": {
        "id": "-E5ZNfHMeHCO"
      },
      "execution_count": null,
      "outputs": []
    },
    {
      "cell_type": "code",
      "source": [
        "dados.avaliacao_gestor.mean().round()\n"
      ],
      "metadata": {
        "id": "O_w9mFJCeMl1"
      },
      "execution_count": null,
      "outputs": []
    },
    {
      "cell_type": "markdown",
      "source": [
        "Analisando coluna fit_cultural"
      ],
      "metadata": {
        "id": "7L95XVz4fJsn"
      }
    },
    {
      "cell_type": "code",
      "source": [
        "dados.fit_cultural.min()\n"
      ],
      "metadata": {
        "id": "dKUdtr_feWNm"
      },
      "execution_count": null,
      "outputs": []
    },
    {
      "cell_type": "code",
      "source": [
        "dados.fit_cultural.max()\n"
      ],
      "metadata": {
        "id": "Wf_4rJypfQVS"
      },
      "execution_count": null,
      "outputs": []
    },
    {
      "cell_type": "code",
      "source": [
        "dados.fit_cultural.mean().round()\n"
      ],
      "metadata": {
        "id": "VtgxGLXffQdM"
      },
      "execution_count": null,
      "outputs": []
    },
    {
      "cell_type": "code",
      "source": [
        "dados.head(5)\n"
      ],
      "metadata": {
        "id": "xZe0TJEYfW8u"
      },
      "execution_count": null,
      "outputs": []
    },
    {
      "cell_type": "code",
      "source": [
        "tipos_de_dados\n"
      ],
      "metadata": {
        "id": "PE3_3P69fmlu"
      },
      "execution_count": null,
      "outputs": []
    },
    {
      "cell_type": "code",
      "source": [
        "dados = dados.convert_dtypes()"
      ],
      "metadata": {
        "id": "Ntw3JJ0DmAkA"
      },
      "execution_count": null,
      "outputs": []
    },
    {
      "cell_type": "code",
      "source": [
        "dados = dados.drop(53)\n"
      ],
      "metadata": {
        "id": "ILw2yuMPig1m"
      },
      "execution_count": null,
      "outputs": []
    },
    {
      "cell_type": "code",
      "source": [
        "dados.info()\n"
      ],
      "metadata": {
        "id": "a_Hc4xCSmmPf"
      },
      "execution_count": null,
      "outputs": []
    },
    {
      "cell_type": "code",
      "source": [
        "dados.head(5)"
      ],
      "metadata": {
        "id": "xxzdDVSSmn7e"
      },
      "execution_count": null,
      "outputs": []
    },
    {
      "cell_type": "markdown",
      "source": [
        "Padronizando nome das colunas"
      ],
      "metadata": {
        "id": "WrkpqTRW8NhI"
      }
    },
    {
      "cell_type": "code",
      "source": [
        "#dados.replace(dados['Cargo'], dados['Cargo'].title(), inplace = True)\n",
        "\n",
        "for t in dados['Cargo']:\n",
        "  #Normalizando primeiro caracter maúsculo\n",
        "  dados['Cargo'].replace(t, t.title(), inplace = True)  \n",
        "  \n",
        "for t in dados['Cargo']:\n",
        "  #Normalizando\n",
        "  text = t.replace('De ', 'de ') \n",
        "  text = text.replace('Ii', 'II')\n",
        "  text = text.replace('Iii', 'III')\n",
        "\n",
        "  dados['Cargo'].replace(t, text, inplace = True)\n"
      ],
      "metadata": {
        "id": "b0gWKCaba6_2"
      },
      "execution_count": null,
      "outputs": []
    },
    {
      "cell_type": "code",
      "source": [
        "dados.rename(columns={'matricula': 'Matrícula', 'tarefas': 'Tarefas','qualidade': 'Qualidade','reincidencia': 'Reincidência','avaliacao_gestor': 'Avaliação do gestor (Desempenho)','fit_cultural': 'Alinhamento Cultural', 'Intervalo da Promoção': 'Intervalo da Promoção em dias' }, inplace = True)\n"
      ],
      "metadata": {
        "id": "DmfcowYB7xs-"
      },
      "execution_count": null,
      "outputs": []
    },
    {
      "cell_type": "code",
      "source": [
        "dados.head(5)"
      ],
      "metadata": {
        "id": "WeaoK8H-7dVX"
      },
      "execution_count": null,
      "outputs": []
    },
    {
      "cell_type": "code",
      "source": [
        "dados.insert(13, \"Mediana da Reincidência\", float)\n"
      ],
      "metadata": {
        "id": "JVR9_7Sq7fsn"
      },
      "execution_count": null,
      "outputs": []
    },
    {
      "cell_type": "code",
      "source": [
        "dados['Mediana da Reincidência'] = dados.Reincidência.median()\n"
      ],
      "metadata": {
        "id": "9PJXx26D_AWw"
      },
      "execution_count": null,
      "outputs": []
    },
    {
      "cell_type": "code",
      "source": [
        "dados.insert(11, \"Média Tarefas Entregues\", int)\n"
      ],
      "metadata": {
        "id": "4UcTfj5O_QJu"
      },
      "execution_count": null,
      "outputs": []
    },
    {
      "cell_type": "code",
      "source": [
        "dados['Média Tarefas Entregues'] = int(dados.Tarefas.mean().round())\n"
      ],
      "metadata": {
        "id": "91uoSkodAICW"
      },
      "execution_count": null,
      "outputs": []
    },
    {
      "cell_type": "code",
      "source": [
        "dados.insert(13, \"Média Qualidade\", int)\n"
      ],
      "metadata": {
        "id": "J4bgjeZpl_na"
      },
      "execution_count": null,
      "outputs": []
    },
    {
      "cell_type": "code",
      "source": [
        "dados['Média Qualidade'] = int(dados.Qualidade.mean().round())"
      ],
      "metadata": {
        "id": "3QUvnZGOl_42"
      },
      "execution_count": null,
      "outputs": []
    },
    {
      "cell_type": "code",
      "source": [
        "dados.insert(17, \"Média Desempenho\", int)\n"
      ],
      "metadata": {
        "id": "YRgGMF47m2T0"
      },
      "execution_count": null,
      "outputs": []
    },
    {
      "cell_type": "code",
      "source": [
        "dados['Média Desempenho'] = int(dados['Avaliação do gestor (Desempenho)'].mean().round())\n"
      ],
      "metadata": {
        "id": "d37lg1bHm2cf"
      },
      "execution_count": null,
      "outputs": []
    },
    {
      "cell_type": "code",
      "source": [
        "dados.insert(19, \"Média Cultural\", int)\n"
      ],
      "metadata": {
        "id": "j2YNB3O0nLVO"
      },
      "execution_count": null,
      "outputs": []
    },
    {
      "cell_type": "code",
      "source": [
        "dados['Média Cultural'] = int(dados['Alinhamento Cultural'].mean().round())\n"
      ],
      "metadata": {
        "id": "84gZWBmJnLe0"
      },
      "execution_count": null,
      "outputs": []
    },
    {
      "cell_type": "code",
      "source": [
        "dados['Critério Promoção'] = bool(0)\n",
        "\n",
        "for index, r in dados.iterrows():\n",
        "  if ( r['Qualidade']                         >= r['Média Qualidade']         and \n",
        "       r['Avaliação do gestor (Desempenho)']  >= r['Média Desempenho']        and \n",
        "       r['Alinhamento Cultural']              >= r['Média Cultural']          and \n",
        "       r['Tarefas']                           >= r['Média Tarefas Entregues'] and \n",
        "       r['Reincidência']                      <= r['Mediana da Reincidência']\n",
        "     ):\n",
        "\n",
        "    dados.loc[dados['Matrícula'] == r['Matrícula'] ,'Critério Promoção'] = True  \n",
        "  "
      ],
      "metadata": {
        "id": "VT9jrgTT_7P3"
      },
      "execution_count": null,
      "outputs": []
    },
    {
      "cell_type": "code",
      "source": [
        "dados['Critério Promoção'].value_counts()"
      ],
      "metadata": {
        "id": "5ftHx5xdvjjb"
      },
      "execution_count": null,
      "outputs": []
    },
    {
      "cell_type": "code",
      "source": [
        "dados.head()"
      ],
      "metadata": {
        "id": "P1cIJinp-dix"
      },
      "execution_count": null,
      "outputs": []
    }
  ]
}