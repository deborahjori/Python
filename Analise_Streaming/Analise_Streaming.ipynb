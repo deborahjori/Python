{
  "nbformat": 4,
  "nbformat_minor": 0,
  "metadata": {
    "colab": {
      "provenance": [],
      "collapsed_sections": [
        "_dXnLhXuW_-P",
        "k4sRImCfXAAe",
        "Xt2r3JPDXJ-e"
      ]
    },
    "kernelspec": {
      "name": "python3",
      "display_name": "Python 3"
    },
    "language_info": {
      "name": "python"
    }
  },
  "cells": [
    {
      "cell_type": "markdown",
      "source": [
        "#Importando bibliotecas"
      ],
      "metadata": {
        "id": "vwal_r7pvWD2"
      }
    },
    {
      "cell_type": "code",
      "execution_count": 1,
      "metadata": {
        "id": "Y7F8pcFqvKUw"
      },
      "outputs": [],
      "source": [
        "import pandas as pd\n",
        "from datetime import datetime"
      ]
    },
    {
      "cell_type": "markdown",
      "source": [
        "#Importando fontes de dados"
      ],
      "metadata": {
        "id": "0MY4QcrpvZYY"
      }
    },
    {
      "cell_type": "code",
      "source": [
        "from google.colab import drive\n",
        "drive.mount('/content/drive')\n",
        "\n",
        "google_drive = '/content/drive/MyDrive/<ADICIONE AQUI O CAMINHO ONDE ESTÃO OS ARQUIVOS>'\n"
      ],
      "metadata": {
        "colab": {
          "base_uri": "https://localhost:8080/"
        },
        "id": "KyYCHPKNvbcC",
        "outputId": "94cc565b-6290-4a7d-cf67-3fd707afe832"
      },
      "execution_count": 2,
      "outputs": [
        {
          "output_type": "stream",
          "name": "stdout",
          "text": [
            "Drive already mounted at /content/drive; to attempt to forcibly remount, call drive.mount(\"/content/drive\", force_remount=True).\n"
          ]
        }
      ]
    },
    {
      "cell_type": "code",
      "source": [
        "amazon_prime_titles  =  pd.read_csv(google_drive + 'amazon_prime_titles.csv', sep=',')\n",
        "netflix_titles       =  pd.read_csv(google_drive + '/netflix_titles.csv', sep=',')"
      ],
      "metadata": {
        "id": "pfXi-dK8vfCM"
      },
      "execution_count": 3,
      "outputs": []
    },
    {
      "cell_type": "markdown",
      "source": [
        "##Criando Coluna de \"Streaming\" para identificar origem"
      ],
      "metadata": {
        "id": "y0ZWUIuteEYh"
      }
    },
    {
      "cell_type": "code",
      "source": [
        "amazon_prime_titles['streaming'] = 'amazon_prime'\n",
        "netflix_titles['streaming']      = 'netflix'"
      ],
      "metadata": {
        "id": "7M1Bj7CsZrcD"
      },
      "execution_count": 4,
      "outputs": []
    },
    {
      "cell_type": "markdown",
      "source": [
        "# Unindo tabelas para gerar um único dataset"
      ],
      "metadata": {
        "id": "_rkjeA8Oeyiw"
      }
    },
    {
      "cell_type": "code",
      "source": [
        "dados = pd.concat([amazon_prime_titles, netflix_titles], ignore_index=True)"
      ],
      "metadata": {
        "id": "D4wzX6VJuOqx"
      },
      "execution_count": 5,
      "outputs": []
    },
    {
      "cell_type": "markdown",
      "source": [
        "#Transformando e validando dados "
      ],
      "metadata": {
        "id": "VFDvSqws4VB0"
      }
    },
    {
      "cell_type": "code",
      "source": [
        "#Transformando coluna 'date_added' para tipo data\n",
        "dados['date_added'] = pd.to_datetime(dados['date_added'])\n",
        "\n",
        "#Adicionando uma coluna 'month_added' que contém o mês correspondente de cada 'date_added'\n",
        "dados['month_added'] = pd.to_datetime(dados['date_added'], format='%m').dt.strftime('%B')"
      ],
      "metadata": {
        "id": "q6JtAkV5Xtwc"
      },
      "execution_count": 6,
      "outputs": []
    },
    {
      "cell_type": "code",
      "source": [
        "#Verificando duplicidade nos ids Amazon Prime\n",
        "duplicados_amazon = dados['show_id'][dados['streaming'] == 'amazon_prime'].duplicated().sum()\n",
        "duplicados_amazon"
      ],
      "metadata": {
        "colab": {
          "base_uri": "https://localhost:8080/"
        },
        "id": "GR_c48AD42g0",
        "outputId": "0fb71cf9-eab5-4729-dff5-32ceb61847a1"
      },
      "execution_count": 7,
      "outputs": [
        {
          "output_type": "execute_result",
          "data": {
            "text/plain": [
              "0"
            ]
          },
          "metadata": {},
          "execution_count": 7
        }
      ]
    },
    {
      "cell_type": "code",
      "source": [
        "#Verificando duplicidade nos ids Netflix\n",
        "duplicados_netflix = dados['show_id'][dados['streaming'] == 'netflix'].duplicated().sum()\n",
        "duplicados_netflix"
      ],
      "metadata": {
        "colab": {
          "base_uri": "https://localhost:8080/"
        },
        "id": "j1D5yQQTuaZQ",
        "outputId": "85f8d9a7-f216-46e8-8af1-d7495c41dd9a"
      },
      "execution_count": 8,
      "outputs": [
        {
          "output_type": "execute_result",
          "data": {
            "text/plain": [
              "0"
            ]
          },
          "metadata": {},
          "execution_count": 8
        }
      ]
    },
    {
      "cell_type": "code",
      "source": [
        "#Verificando campos nulos nos ids Amazon Prime\n",
        "nulos_amazon =  dados['show_id'][dados['streaming'] == 'amazon_prime'].isna().sum()\n",
        "nulos_amazon"
      ],
      "metadata": {
        "colab": {
          "base_uri": "https://localhost:8080/"
        },
        "id": "Ys02OBD-5Bt0",
        "outputId": "8331069d-137b-4f70-a165-fe81cd3dc169"
      },
      "execution_count": 9,
      "outputs": [
        {
          "output_type": "execute_result",
          "data": {
            "text/plain": [
              "0"
            ]
          },
          "metadata": {},
          "execution_count": 9
        }
      ]
    },
    {
      "cell_type": "code",
      "source": [
        "#Verificando campos nulos nos ids Netflix\n",
        "nulos_netflix = dados['show_id'][dados['streaming'] == 'netflix'].isna().sum()\n",
        "nulos_netflix"
      ],
      "metadata": {
        "colab": {
          "base_uri": "https://localhost:8080/"
        },
        "id": "FFAtTb3gvd-6",
        "outputId": "961e1ea7-99de-4eeb-e037-1ce79c6d4325"
      },
      "execution_count": 10,
      "outputs": [
        {
          "output_type": "execute_result",
          "data": {
            "text/plain": [
              "0"
            ]
          },
          "metadata": {},
          "execution_count": 10
        }
      ]
    },
    {
      "cell_type": "code",
      "source": [
        "#Verificando campos vazios nos ids Amazon Prime\n",
        "vazios_amazon = dados['show_id'].isnull().sum()\n",
        "vazios_amazon"
      ],
      "metadata": {
        "colab": {
          "base_uri": "https://localhost:8080/"
        },
        "id": "DSPijb9kvkW1",
        "outputId": "c3f9d9b6-ea04-487d-d7b7-bfe210e58573"
      },
      "execution_count": 11,
      "outputs": [
        {
          "output_type": "execute_result",
          "data": {
            "text/plain": [
              "0"
            ]
          },
          "metadata": {},
          "execution_count": 11
        }
      ]
    },
    {
      "cell_type": "code",
      "source": [
        "#Verificando campos vazios nos ids Netflix\n",
        "vazios_netflix = dados['show_id'].isnull().sum()\n",
        "vazios_netflix"
      ],
      "metadata": {
        "colab": {
          "base_uri": "https://localhost:8080/"
        },
        "id": "wFhI-S_l5KtO",
        "outputId": "39cdcb00-32b9-47f8-ff11-74193ba92152"
      },
      "execution_count": 12,
      "outputs": [
        {
          "output_type": "execute_result",
          "data": {
            "text/plain": [
              "0"
            ]
          },
          "metadata": {},
          "execution_count": 12
        }
      ]
    },
    {
      "cell_type": "code",
      "source": [
        "#Verificando tipos de conteúdos\n",
        "dados['type'].unique()"
      ],
      "metadata": {
        "colab": {
          "base_uri": "https://localhost:8080/"
        },
        "id": "IPWCdumV65Uo",
        "outputId": "30670786-32f1-49c7-f5b1-8ba5a7105b5f"
      },
      "execution_count": 13,
      "outputs": [
        {
          "output_type": "execute_result",
          "data": {
            "text/plain": [
              "array(['Movie', 'TV Show'], dtype=object)"
            ]
          },
          "metadata": {},
          "execution_count": 13
        }
      ]
    },
    {
      "cell_type": "markdown",
      "source": [
        "# Filtrando os dados"
      ],
      "metadata": {
        "id": "reByl4a5fE7c"
      }
    },
    {
      "cell_type": "markdown",
      "source": [
        "##Top 10 atores/atrizes considerando todos os dados"
      ],
      "metadata": {
        "id": "_0AIPKl2fKIt"
      }
    },
    {
      "cell_type": "code",
      "source": [
        "#Criando dataset com dados da coluna cast, tratando os dados, separando-os por nome dos atores/atrizes envolvidos pela vírgula e criando uma linha para cada, considerando apenas nomes com mais de 2 caracteres.\n",
        "cast = dados['cast'].str.split(',').explode()\n",
        "cast = cast[cast.str.strip().str.len() > 2]\n",
        "cast = cast.reset_index(name=\"actor/actresses\")"
      ],
      "metadata": {
        "id": "JGcnYIIMK1c6"
      },
      "execution_count": 14,
      "outputs": []
    },
    {
      "cell_type": "code",
      "source": [
        "#Limpando espaços\n",
        "cast['actor/actresses'] = cast['actor/actresses'].str.strip()"
      ],
      "metadata": {
        "id": "sVm3qKyZKunq"
      },
      "execution_count": 15,
      "outputs": []
    },
    {
      "cell_type": "code",
      "source": [
        "#Realizando count por nomes e retorno da série é transformado novamente em dataframe\n",
        "cast = cast.groupby(['actor/actresses']).size().sort_values(ascending=False).head(10).to_frame()"
      ],
      "metadata": {
        "id": "PIdqISvnGdoA"
      },
      "execution_count": 16,
      "outputs": []
    },
    {
      "cell_type": "code",
      "source": [
        "#Renomeando coluna\n",
        "cast.rename(columns={ cast.columns[0]: \"count\" }, inplace = True)"
      ],
      "metadata": {
        "id": "TPVt301CiZQB"
      },
      "execution_count": 17,
      "outputs": []
    },
    {
      "cell_type": "code",
      "source": [
        "#Resetando o index\n",
        "cast = cast.reset_index()\n",
        "cast"
      ],
      "metadata": {
        "colab": {
          "base_uri": "https://localhost:8080/",
          "height": 363
        },
        "id": "_QnR5xLASdUs",
        "outputId": "f46a75bc-fab7-4185-8161-104e770273d4"
      },
      "execution_count": 18,
      "outputs": [
        {
          "output_type": "execute_result",
          "data": {
            "text/plain": [
              "    actor/actresses  count\n",
              "0       Anupam Kher     59\n",
              "1    Maggie Binkley     56\n",
              "2  Amitabh Bachchan     47\n",
              "3    Shah Rukh Khan     46\n",
              "4            Nassar     43\n",
              "5      Akshay Kumar     41\n",
              "6       Danny Trejo     39\n",
              "7      Paresh Rawal     39\n",
              "8  Naseeruddin Shah     39\n",
              "9           Om Puri     35"
            ],
            "text/html": [
              "\n",
              "  <div id=\"df-bd093caa-9cf5-478c-9ef5-d1ad3c6e26ec\">\n",
              "    <div class=\"colab-df-container\">\n",
              "      <div>\n",
              "<style scoped>\n",
              "    .dataframe tbody tr th:only-of-type {\n",
              "        vertical-align: middle;\n",
              "    }\n",
              "\n",
              "    .dataframe tbody tr th {\n",
              "        vertical-align: top;\n",
              "    }\n",
              "\n",
              "    .dataframe thead th {\n",
              "        text-align: right;\n",
              "    }\n",
              "</style>\n",
              "<table border=\"1\" class=\"dataframe\">\n",
              "  <thead>\n",
              "    <tr style=\"text-align: right;\">\n",
              "      <th></th>\n",
              "      <th>actor/actresses</th>\n",
              "      <th>count</th>\n",
              "    </tr>\n",
              "  </thead>\n",
              "  <tbody>\n",
              "    <tr>\n",
              "      <th>0</th>\n",
              "      <td>Anupam Kher</td>\n",
              "      <td>59</td>\n",
              "    </tr>\n",
              "    <tr>\n",
              "      <th>1</th>\n",
              "      <td>Maggie Binkley</td>\n",
              "      <td>56</td>\n",
              "    </tr>\n",
              "    <tr>\n",
              "      <th>2</th>\n",
              "      <td>Amitabh Bachchan</td>\n",
              "      <td>47</td>\n",
              "    </tr>\n",
              "    <tr>\n",
              "      <th>3</th>\n",
              "      <td>Shah Rukh Khan</td>\n",
              "      <td>46</td>\n",
              "    </tr>\n",
              "    <tr>\n",
              "      <th>4</th>\n",
              "      <td>Nassar</td>\n",
              "      <td>43</td>\n",
              "    </tr>\n",
              "    <tr>\n",
              "      <th>5</th>\n",
              "      <td>Akshay Kumar</td>\n",
              "      <td>41</td>\n",
              "    </tr>\n",
              "    <tr>\n",
              "      <th>6</th>\n",
              "      <td>Danny Trejo</td>\n",
              "      <td>39</td>\n",
              "    </tr>\n",
              "    <tr>\n",
              "      <th>7</th>\n",
              "      <td>Paresh Rawal</td>\n",
              "      <td>39</td>\n",
              "    </tr>\n",
              "    <tr>\n",
              "      <th>8</th>\n",
              "      <td>Naseeruddin Shah</td>\n",
              "      <td>39</td>\n",
              "    </tr>\n",
              "    <tr>\n",
              "      <th>9</th>\n",
              "      <td>Om Puri</td>\n",
              "      <td>35</td>\n",
              "    </tr>\n",
              "  </tbody>\n",
              "</table>\n",
              "</div>\n",
              "      <button class=\"colab-df-convert\" onclick=\"convertToInteractive('df-bd093caa-9cf5-478c-9ef5-d1ad3c6e26ec')\"\n",
              "              title=\"Convert this dataframe to an interactive table.\"\n",
              "              style=\"display:none;\">\n",
              "        \n",
              "  <svg xmlns=\"http://www.w3.org/2000/svg\" height=\"24px\"viewBox=\"0 0 24 24\"\n",
              "       width=\"24px\">\n",
              "    <path d=\"M0 0h24v24H0V0z\" fill=\"none\"/>\n",
              "    <path d=\"M18.56 5.44l.94 2.06.94-2.06 2.06-.94-2.06-.94-.94-2.06-.94 2.06-2.06.94zm-11 1L8.5 8.5l.94-2.06 2.06-.94-2.06-.94L8.5 2.5l-.94 2.06-2.06.94zm10 10l.94 2.06.94-2.06 2.06-.94-2.06-.94-.94-2.06-.94 2.06-2.06.94z\"/><path d=\"M17.41 7.96l-1.37-1.37c-.4-.4-.92-.59-1.43-.59-.52 0-1.04.2-1.43.59L10.3 9.45l-7.72 7.72c-.78.78-.78 2.05 0 2.83L4 21.41c.39.39.9.59 1.41.59.51 0 1.02-.2 1.41-.59l7.78-7.78 2.81-2.81c.8-.78.8-2.07 0-2.86zM5.41 20L4 18.59l7.72-7.72 1.47 1.35L5.41 20z\"/>\n",
              "  </svg>\n",
              "      </button>\n",
              "      \n",
              "  <style>\n",
              "    .colab-df-container {\n",
              "      display:flex;\n",
              "      flex-wrap:wrap;\n",
              "      gap: 12px;\n",
              "    }\n",
              "\n",
              "    .colab-df-convert {\n",
              "      background-color: #E8F0FE;\n",
              "      border: none;\n",
              "      border-radius: 50%;\n",
              "      cursor: pointer;\n",
              "      display: none;\n",
              "      fill: #1967D2;\n",
              "      height: 32px;\n",
              "      padding: 0 0 0 0;\n",
              "      width: 32px;\n",
              "    }\n",
              "\n",
              "    .colab-df-convert:hover {\n",
              "      background-color: #E2EBFA;\n",
              "      box-shadow: 0px 1px 2px rgba(60, 64, 67, 0.3), 0px 1px 3px 1px rgba(60, 64, 67, 0.15);\n",
              "      fill: #174EA6;\n",
              "    }\n",
              "\n",
              "    [theme=dark] .colab-df-convert {\n",
              "      background-color: #3B4455;\n",
              "      fill: #D2E3FC;\n",
              "    }\n",
              "\n",
              "    [theme=dark] .colab-df-convert:hover {\n",
              "      background-color: #434B5C;\n",
              "      box-shadow: 0px 1px 3px 1px rgba(0, 0, 0, 0.15);\n",
              "      filter: drop-shadow(0px 1px 2px rgba(0, 0, 0, 0.3));\n",
              "      fill: #FFFFFF;\n",
              "    }\n",
              "  </style>\n",
              "\n",
              "      <script>\n",
              "        const buttonEl =\n",
              "          document.querySelector('#df-bd093caa-9cf5-478c-9ef5-d1ad3c6e26ec button.colab-df-convert');\n",
              "        buttonEl.style.display =\n",
              "          google.colab.kernel.accessAllowed ? 'block' : 'none';\n",
              "\n",
              "        async function convertToInteractive(key) {\n",
              "          const element = document.querySelector('#df-bd093caa-9cf5-478c-9ef5-d1ad3c6e26ec');\n",
              "          const dataTable =\n",
              "            await google.colab.kernel.invokeFunction('convertToInteractive',\n",
              "                                                     [key], {});\n",
              "          if (!dataTable) return;\n",
              "\n",
              "          const docLinkHtml = 'Like what you see? Visit the ' +\n",
              "            '<a target=\"_blank\" href=https://colab.research.google.com/notebooks/data_table.ipynb>data table notebook</a>'\n",
              "            + ' to learn more about interactive tables.';\n",
              "          element.innerHTML = '';\n",
              "          dataTable['output_type'] = 'display_data';\n",
              "          await google.colab.output.renderOutput(dataTable, element);\n",
              "          const docLink = document.createElement('div');\n",
              "          docLink.innerHTML = docLinkHtml;\n",
              "          element.appendChild(docLink);\n",
              "        }\n",
              "      </script>\n",
              "    </div>\n",
              "  </div>\n",
              "  "
            ]
          },
          "metadata": {},
          "execution_count": 18
        }
      ]
    },
    {
      "cell_type": "markdown",
      "source": [
        "##Top 5 países produtores de conteúdos considerando todos os dados e comparando as duas plataformas"
      ],
      "metadata": {
        "id": "A23zfzgbW51b"
      }
    },
    {
      "cell_type": "code",
      "source": [
        "# Criando dataset com base na coluna 'country' de dados, separando os nomes dos países por vírgula e criando uma linha para cada\n",
        "top_5_countries = dados['country'].str.split(',').explode()\n",
        "\n",
        "#Transformando em df, recebendo 'country' como nome do index\n",
        "top_5_countries = top_5_countries.reset_index(name=\"country\")\n",
        "\n",
        "#Removendo espaços\n",
        "top_5_countries['country'] = top_5_countries['country'].str.strip()\n",
        "\n",
        "#Realizando count agrupados por países, ordenando os valores pela soma de ocorrências em ambas as plataformas e exibindo os 5 primeiros países\n",
        "top_5_countries = top_5_countries.groupby(['country']).size().sort_values(ascending=False).head(5).to_frame()\n",
        "\n",
        "#Renomeando coluna\n",
        "top_5_countries.rename(columns={ top_5_countries.columns[0]: \"count\" }, inplace = True)\n",
        "top_5_countries"
      ],
      "metadata": {
        "colab": {
          "base_uri": "https://localhost:8080/",
          "height": 238
        },
        "id": "el4LSH3gbzsR",
        "outputId": "a0f66a56-d416-4fb8-9f5f-4ad9da8b2b2a"
      },
      "execution_count": 19,
      "outputs": [
        {
          "output_type": "execute_result",
          "data": {
            "text/plain": [
              "                count\n",
              "country              \n",
              "United States    4024\n",
              "India            1292\n",
              "United Kingdom    873\n",
              "Canada            480\n",
              "France            413"
            ],
            "text/html": [
              "\n",
              "  <div id=\"df-49f9384d-a3b2-4a47-9c25-9387948a930a\">\n",
              "    <div class=\"colab-df-container\">\n",
              "      <div>\n",
              "<style scoped>\n",
              "    .dataframe tbody tr th:only-of-type {\n",
              "        vertical-align: middle;\n",
              "    }\n",
              "\n",
              "    .dataframe tbody tr th {\n",
              "        vertical-align: top;\n",
              "    }\n",
              "\n",
              "    .dataframe thead th {\n",
              "        text-align: right;\n",
              "    }\n",
              "</style>\n",
              "<table border=\"1\" class=\"dataframe\">\n",
              "  <thead>\n",
              "    <tr style=\"text-align: right;\">\n",
              "      <th></th>\n",
              "      <th>count</th>\n",
              "    </tr>\n",
              "    <tr>\n",
              "      <th>country</th>\n",
              "      <th></th>\n",
              "    </tr>\n",
              "  </thead>\n",
              "  <tbody>\n",
              "    <tr>\n",
              "      <th>United States</th>\n",
              "      <td>4024</td>\n",
              "    </tr>\n",
              "    <tr>\n",
              "      <th>India</th>\n",
              "      <td>1292</td>\n",
              "    </tr>\n",
              "    <tr>\n",
              "      <th>United Kingdom</th>\n",
              "      <td>873</td>\n",
              "    </tr>\n",
              "    <tr>\n",
              "      <th>Canada</th>\n",
              "      <td>480</td>\n",
              "    </tr>\n",
              "    <tr>\n",
              "      <th>France</th>\n",
              "      <td>413</td>\n",
              "    </tr>\n",
              "  </tbody>\n",
              "</table>\n",
              "</div>\n",
              "      <button class=\"colab-df-convert\" onclick=\"convertToInteractive('df-49f9384d-a3b2-4a47-9c25-9387948a930a')\"\n",
              "              title=\"Convert this dataframe to an interactive table.\"\n",
              "              style=\"display:none;\">\n",
              "        \n",
              "  <svg xmlns=\"http://www.w3.org/2000/svg\" height=\"24px\"viewBox=\"0 0 24 24\"\n",
              "       width=\"24px\">\n",
              "    <path d=\"M0 0h24v24H0V0z\" fill=\"none\"/>\n",
              "    <path d=\"M18.56 5.44l.94 2.06.94-2.06 2.06-.94-2.06-.94-.94-2.06-.94 2.06-2.06.94zm-11 1L8.5 8.5l.94-2.06 2.06-.94-2.06-.94L8.5 2.5l-.94 2.06-2.06.94zm10 10l.94 2.06.94-2.06 2.06-.94-2.06-.94-.94-2.06-.94 2.06-2.06.94z\"/><path d=\"M17.41 7.96l-1.37-1.37c-.4-.4-.92-.59-1.43-.59-.52 0-1.04.2-1.43.59L10.3 9.45l-7.72 7.72c-.78.78-.78 2.05 0 2.83L4 21.41c.39.39.9.59 1.41.59.51 0 1.02-.2 1.41-.59l7.78-7.78 2.81-2.81c.8-.78.8-2.07 0-2.86zM5.41 20L4 18.59l7.72-7.72 1.47 1.35L5.41 20z\"/>\n",
              "  </svg>\n",
              "      </button>\n",
              "      \n",
              "  <style>\n",
              "    .colab-df-container {\n",
              "      display:flex;\n",
              "      flex-wrap:wrap;\n",
              "      gap: 12px;\n",
              "    }\n",
              "\n",
              "    .colab-df-convert {\n",
              "      background-color: #E8F0FE;\n",
              "      border: none;\n",
              "      border-radius: 50%;\n",
              "      cursor: pointer;\n",
              "      display: none;\n",
              "      fill: #1967D2;\n",
              "      height: 32px;\n",
              "      padding: 0 0 0 0;\n",
              "      width: 32px;\n",
              "    }\n",
              "\n",
              "    .colab-df-convert:hover {\n",
              "      background-color: #E2EBFA;\n",
              "      box-shadow: 0px 1px 2px rgba(60, 64, 67, 0.3), 0px 1px 3px 1px rgba(60, 64, 67, 0.15);\n",
              "      fill: #174EA6;\n",
              "    }\n",
              "\n",
              "    [theme=dark] .colab-df-convert {\n",
              "      background-color: #3B4455;\n",
              "      fill: #D2E3FC;\n",
              "    }\n",
              "\n",
              "    [theme=dark] .colab-df-convert:hover {\n",
              "      background-color: #434B5C;\n",
              "      box-shadow: 0px 1px 3px 1px rgba(0, 0, 0, 0.15);\n",
              "      filter: drop-shadow(0px 1px 2px rgba(0, 0, 0, 0.3));\n",
              "      fill: #FFFFFF;\n",
              "    }\n",
              "  </style>\n",
              "\n",
              "      <script>\n",
              "        const buttonEl =\n",
              "          document.querySelector('#df-49f9384d-a3b2-4a47-9c25-9387948a930a button.colab-df-convert');\n",
              "        buttonEl.style.display =\n",
              "          google.colab.kernel.accessAllowed ? 'block' : 'none';\n",
              "\n",
              "        async function convertToInteractive(key) {\n",
              "          const element = document.querySelector('#df-49f9384d-a3b2-4a47-9c25-9387948a930a');\n",
              "          const dataTable =\n",
              "            await google.colab.kernel.invokeFunction('convertToInteractive',\n",
              "                                                     [key], {});\n",
              "          if (!dataTable) return;\n",
              "\n",
              "          const docLinkHtml = 'Like what you see? Visit the ' +\n",
              "            '<a target=\"_blank\" href=https://colab.research.google.com/notebooks/data_table.ipynb>data table notebook</a>'\n",
              "            + ' to learn more about interactive tables.';\n",
              "          element.innerHTML = '';\n",
              "          dataTable['output_type'] = 'display_data';\n",
              "          await google.colab.output.renderOutput(dataTable, element);\n",
              "          const docLink = document.createElement('div');\n",
              "          docLink.innerHTML = docLinkHtml;\n",
              "          element.appendChild(docLink);\n",
              "        }\n",
              "      </script>\n",
              "    </div>\n",
              "  </div>\n",
              "  "
            ]
          },
          "metadata": {},
          "execution_count": 19
        }
      ]
    },
    {
      "cell_type": "code",
      "source": [
        "# Criando dataset com base na coluna 'country' de dados e filtrando pela coluna streaming apenas netflix, separando os nomes dos países por vírgula e criando uma linha para cada\n",
        "top_5_countries_netflix = dados['country'].str.split(',').explode()[dados['streaming'] == 'netflix']\n",
        "\n",
        "#Transformando em df, recebendo 'country' como nome do index\n",
        "top_5_countries_netflix = top_5_countries_netflix.reset_index(name=\"country\")\n",
        "\n",
        "#Removendo espaços\n",
        "top_5_countries_netflix['country'] = top_5_countries_netflix['country'].str.strip()\n",
        "\n",
        "#Realizando count agrupados por países, ordenando os valores pela soma de ocorrências em ambas as plataformas e exibindo os 5 primeiros países\n",
        "top_5_countries_netflix = top_5_countries_netflix.groupby(['country']).size().sort_values(ascending=False).head(5).to_frame()\n",
        "\n",
        "#Renomeando coluna\n",
        "top_5_countries_netflix.rename(columns={ top_5_countries_netflix.columns[0]: \"count\" }, inplace = True)\n",
        "\n",
        "#Criando coluna com rankig do top 5\n",
        "top_5_countries_netflix.insert(0, 'ranking', range(1, 1 + len(top_5_countries_netflix)))\n",
        "\n",
        "#Transformando coluna ranking em index\n",
        "top_5_countries_netflix = top_5_countries_netflix.reset_index()\n",
        "top_5_countries_netflix = top_5_countries_netflix.set_index('ranking')\n",
        "\n",
        "top_5_countries_netflix"
      ],
      "metadata": {
        "colab": {
          "base_uri": "https://localhost:8080/",
          "height": 238
        },
        "id": "p1WZUCZbc8x9",
        "outputId": "b698d093-a602-4dee-d981-2db4a2c66dfa"
      },
      "execution_count": 20,
      "outputs": [
        {
          "output_type": "execute_result",
          "data": {
            "text/plain": [
              "                country  count\n",
              "ranking                       \n",
              "1         United States   3690\n",
              "2                 India   1046\n",
              "3        United Kingdom    806\n",
              "4                Canada    445\n",
              "5                France    393"
            ],
            "text/html": [
              "\n",
              "  <div id=\"df-a1a8d9c5-bf8d-4b2e-87c3-6783c22592ba\">\n",
              "    <div class=\"colab-df-container\">\n",
              "      <div>\n",
              "<style scoped>\n",
              "    .dataframe tbody tr th:only-of-type {\n",
              "        vertical-align: middle;\n",
              "    }\n",
              "\n",
              "    .dataframe tbody tr th {\n",
              "        vertical-align: top;\n",
              "    }\n",
              "\n",
              "    .dataframe thead th {\n",
              "        text-align: right;\n",
              "    }\n",
              "</style>\n",
              "<table border=\"1\" class=\"dataframe\">\n",
              "  <thead>\n",
              "    <tr style=\"text-align: right;\">\n",
              "      <th></th>\n",
              "      <th>country</th>\n",
              "      <th>count</th>\n",
              "    </tr>\n",
              "    <tr>\n",
              "      <th>ranking</th>\n",
              "      <th></th>\n",
              "      <th></th>\n",
              "    </tr>\n",
              "  </thead>\n",
              "  <tbody>\n",
              "    <tr>\n",
              "      <th>1</th>\n",
              "      <td>United States</td>\n",
              "      <td>3690</td>\n",
              "    </tr>\n",
              "    <tr>\n",
              "      <th>2</th>\n",
              "      <td>India</td>\n",
              "      <td>1046</td>\n",
              "    </tr>\n",
              "    <tr>\n",
              "      <th>3</th>\n",
              "      <td>United Kingdom</td>\n",
              "      <td>806</td>\n",
              "    </tr>\n",
              "    <tr>\n",
              "      <th>4</th>\n",
              "      <td>Canada</td>\n",
              "      <td>445</td>\n",
              "    </tr>\n",
              "    <tr>\n",
              "      <th>5</th>\n",
              "      <td>France</td>\n",
              "      <td>393</td>\n",
              "    </tr>\n",
              "  </tbody>\n",
              "</table>\n",
              "</div>\n",
              "      <button class=\"colab-df-convert\" onclick=\"convertToInteractive('df-a1a8d9c5-bf8d-4b2e-87c3-6783c22592ba')\"\n",
              "              title=\"Convert this dataframe to an interactive table.\"\n",
              "              style=\"display:none;\">\n",
              "        \n",
              "  <svg xmlns=\"http://www.w3.org/2000/svg\" height=\"24px\"viewBox=\"0 0 24 24\"\n",
              "       width=\"24px\">\n",
              "    <path d=\"M0 0h24v24H0V0z\" fill=\"none\"/>\n",
              "    <path d=\"M18.56 5.44l.94 2.06.94-2.06 2.06-.94-2.06-.94-.94-2.06-.94 2.06-2.06.94zm-11 1L8.5 8.5l.94-2.06 2.06-.94-2.06-.94L8.5 2.5l-.94 2.06-2.06.94zm10 10l.94 2.06.94-2.06 2.06-.94-2.06-.94-.94-2.06-.94 2.06-2.06.94z\"/><path d=\"M17.41 7.96l-1.37-1.37c-.4-.4-.92-.59-1.43-.59-.52 0-1.04.2-1.43.59L10.3 9.45l-7.72 7.72c-.78.78-.78 2.05 0 2.83L4 21.41c.39.39.9.59 1.41.59.51 0 1.02-.2 1.41-.59l7.78-7.78 2.81-2.81c.8-.78.8-2.07 0-2.86zM5.41 20L4 18.59l7.72-7.72 1.47 1.35L5.41 20z\"/>\n",
              "  </svg>\n",
              "      </button>\n",
              "      \n",
              "  <style>\n",
              "    .colab-df-container {\n",
              "      display:flex;\n",
              "      flex-wrap:wrap;\n",
              "      gap: 12px;\n",
              "    }\n",
              "\n",
              "    .colab-df-convert {\n",
              "      background-color: #E8F0FE;\n",
              "      border: none;\n",
              "      border-radius: 50%;\n",
              "      cursor: pointer;\n",
              "      display: none;\n",
              "      fill: #1967D2;\n",
              "      height: 32px;\n",
              "      padding: 0 0 0 0;\n",
              "      width: 32px;\n",
              "    }\n",
              "\n",
              "    .colab-df-convert:hover {\n",
              "      background-color: #E2EBFA;\n",
              "      box-shadow: 0px 1px 2px rgba(60, 64, 67, 0.3), 0px 1px 3px 1px rgba(60, 64, 67, 0.15);\n",
              "      fill: #174EA6;\n",
              "    }\n",
              "\n",
              "    [theme=dark] .colab-df-convert {\n",
              "      background-color: #3B4455;\n",
              "      fill: #D2E3FC;\n",
              "    }\n",
              "\n",
              "    [theme=dark] .colab-df-convert:hover {\n",
              "      background-color: #434B5C;\n",
              "      box-shadow: 0px 1px 3px 1px rgba(0, 0, 0, 0.15);\n",
              "      filter: drop-shadow(0px 1px 2px rgba(0, 0, 0, 0.3));\n",
              "      fill: #FFFFFF;\n",
              "    }\n",
              "  </style>\n",
              "\n",
              "      <script>\n",
              "        const buttonEl =\n",
              "          document.querySelector('#df-a1a8d9c5-bf8d-4b2e-87c3-6783c22592ba button.colab-df-convert');\n",
              "        buttonEl.style.display =\n",
              "          google.colab.kernel.accessAllowed ? 'block' : 'none';\n",
              "\n",
              "        async function convertToInteractive(key) {\n",
              "          const element = document.querySelector('#df-a1a8d9c5-bf8d-4b2e-87c3-6783c22592ba');\n",
              "          const dataTable =\n",
              "            await google.colab.kernel.invokeFunction('convertToInteractive',\n",
              "                                                     [key], {});\n",
              "          if (!dataTable) return;\n",
              "\n",
              "          const docLinkHtml = 'Like what you see? Visit the ' +\n",
              "            '<a target=\"_blank\" href=https://colab.research.google.com/notebooks/data_table.ipynb>data table notebook</a>'\n",
              "            + ' to learn more about interactive tables.';\n",
              "          element.innerHTML = '';\n",
              "          dataTable['output_type'] = 'display_data';\n",
              "          await google.colab.output.renderOutput(dataTable, element);\n",
              "          const docLink = document.createElement('div');\n",
              "          docLink.innerHTML = docLinkHtml;\n",
              "          element.appendChild(docLink);\n",
              "        }\n",
              "      </script>\n",
              "    </div>\n",
              "  </div>\n",
              "  "
            ]
          },
          "metadata": {},
          "execution_count": 20
        }
      ]
    },
    {
      "cell_type": "code",
      "source": [
        "#Criando dataset com base na coluna 'country' de dados e filtrando pela coluna streaming apenas amazon_prime, separando os nomes dos países por vírgula e criando uma linha para cada\n",
        "top_5_countries_amazon = dados['country'].str.split(',').explode()[dados['streaming'] == 'amazon_prime']\n",
        "\n",
        "#Transformando em df, recebendo 'country' como nome do index\n",
        "top_5_countries_amazon = top_5_countries_amazon.reset_index()\n",
        "\n",
        "#Removendo espaços\n",
        "top_5_countries_amazon['country'] = top_5_countries_amazon['country'].str.strip()\n",
        "\n",
        "#Realizando count agrupados por países, ordenando os valores pela soma de ocorrências em ambas as plataformas e exibindo os 5 primeiros países\n",
        "top_5_countries_amazon = top_5_countries_amazon.groupby(['country']).size().sort_values(ascending=False).head(5).to_frame()\n",
        "\n",
        "#Renomeando coluna\n",
        "top_5_countries_amazon.rename(columns={ top_5_countries_amazon.columns[0]: \"count\" }, inplace = True)\n",
        "\n",
        "#Criando coluna com rankig do top 5\n",
        "top_5_countries_amazon.insert(0, 'ranking', range(1, 1 + len(top_5_countries_netflix)))\n",
        "\n",
        "#Transformando coluna ranking em index\n",
        "top_5_countries_amazon = top_5_countries_amazon.reset_index()\n",
        "top_5_countries_amazon = top_5_countries_amazon.set_index('ranking')\n",
        "\n",
        "\n",
        "top_5_countries_amazon"
      ],
      "metadata": {
        "colab": {
          "base_uri": "https://localhost:8080/",
          "height": 238
        },
        "id": "7Oh3cZZ3eDy3",
        "outputId": "303984ea-907c-4c37-e7f9-663c3c042339"
      },
      "execution_count": 21,
      "outputs": [
        {
          "output_type": "execute_result",
          "data": {
            "text/plain": [
              "                country  count\n",
              "ranking                       \n",
              "1         United States    334\n",
              "2                 India    246\n",
              "3        United Kingdom     67\n",
              "4                Canada     35\n",
              "5                France     20"
            ],
            "text/html": [
              "\n",
              "  <div id=\"df-fe41b704-0dd0-45a3-8968-0fade0cf682e\">\n",
              "    <div class=\"colab-df-container\">\n",
              "      <div>\n",
              "<style scoped>\n",
              "    .dataframe tbody tr th:only-of-type {\n",
              "        vertical-align: middle;\n",
              "    }\n",
              "\n",
              "    .dataframe tbody tr th {\n",
              "        vertical-align: top;\n",
              "    }\n",
              "\n",
              "    .dataframe thead th {\n",
              "        text-align: right;\n",
              "    }\n",
              "</style>\n",
              "<table border=\"1\" class=\"dataframe\">\n",
              "  <thead>\n",
              "    <tr style=\"text-align: right;\">\n",
              "      <th></th>\n",
              "      <th>country</th>\n",
              "      <th>count</th>\n",
              "    </tr>\n",
              "    <tr>\n",
              "      <th>ranking</th>\n",
              "      <th></th>\n",
              "      <th></th>\n",
              "    </tr>\n",
              "  </thead>\n",
              "  <tbody>\n",
              "    <tr>\n",
              "      <th>1</th>\n",
              "      <td>United States</td>\n",
              "      <td>334</td>\n",
              "    </tr>\n",
              "    <tr>\n",
              "      <th>2</th>\n",
              "      <td>India</td>\n",
              "      <td>246</td>\n",
              "    </tr>\n",
              "    <tr>\n",
              "      <th>3</th>\n",
              "      <td>United Kingdom</td>\n",
              "      <td>67</td>\n",
              "    </tr>\n",
              "    <tr>\n",
              "      <th>4</th>\n",
              "      <td>Canada</td>\n",
              "      <td>35</td>\n",
              "    </tr>\n",
              "    <tr>\n",
              "      <th>5</th>\n",
              "      <td>France</td>\n",
              "      <td>20</td>\n",
              "    </tr>\n",
              "  </tbody>\n",
              "</table>\n",
              "</div>\n",
              "      <button class=\"colab-df-convert\" onclick=\"convertToInteractive('df-fe41b704-0dd0-45a3-8968-0fade0cf682e')\"\n",
              "              title=\"Convert this dataframe to an interactive table.\"\n",
              "              style=\"display:none;\">\n",
              "        \n",
              "  <svg xmlns=\"http://www.w3.org/2000/svg\" height=\"24px\"viewBox=\"0 0 24 24\"\n",
              "       width=\"24px\">\n",
              "    <path d=\"M0 0h24v24H0V0z\" fill=\"none\"/>\n",
              "    <path d=\"M18.56 5.44l.94 2.06.94-2.06 2.06-.94-2.06-.94-.94-2.06-.94 2.06-2.06.94zm-11 1L8.5 8.5l.94-2.06 2.06-.94-2.06-.94L8.5 2.5l-.94 2.06-2.06.94zm10 10l.94 2.06.94-2.06 2.06-.94-2.06-.94-.94-2.06-.94 2.06-2.06.94z\"/><path d=\"M17.41 7.96l-1.37-1.37c-.4-.4-.92-.59-1.43-.59-.52 0-1.04.2-1.43.59L10.3 9.45l-7.72 7.72c-.78.78-.78 2.05 0 2.83L4 21.41c.39.39.9.59 1.41.59.51 0 1.02-.2 1.41-.59l7.78-7.78 2.81-2.81c.8-.78.8-2.07 0-2.86zM5.41 20L4 18.59l7.72-7.72 1.47 1.35L5.41 20z\"/>\n",
              "  </svg>\n",
              "      </button>\n",
              "      \n",
              "  <style>\n",
              "    .colab-df-container {\n",
              "      display:flex;\n",
              "      flex-wrap:wrap;\n",
              "      gap: 12px;\n",
              "    }\n",
              "\n",
              "    .colab-df-convert {\n",
              "      background-color: #E8F0FE;\n",
              "      border: none;\n",
              "      border-radius: 50%;\n",
              "      cursor: pointer;\n",
              "      display: none;\n",
              "      fill: #1967D2;\n",
              "      height: 32px;\n",
              "      padding: 0 0 0 0;\n",
              "      width: 32px;\n",
              "    }\n",
              "\n",
              "    .colab-df-convert:hover {\n",
              "      background-color: #E2EBFA;\n",
              "      box-shadow: 0px 1px 2px rgba(60, 64, 67, 0.3), 0px 1px 3px 1px rgba(60, 64, 67, 0.15);\n",
              "      fill: #174EA6;\n",
              "    }\n",
              "\n",
              "    [theme=dark] .colab-df-convert {\n",
              "      background-color: #3B4455;\n",
              "      fill: #D2E3FC;\n",
              "    }\n",
              "\n",
              "    [theme=dark] .colab-df-convert:hover {\n",
              "      background-color: #434B5C;\n",
              "      box-shadow: 0px 1px 3px 1px rgba(0, 0, 0, 0.15);\n",
              "      filter: drop-shadow(0px 1px 2px rgba(0, 0, 0, 0.3));\n",
              "      fill: #FFFFFF;\n",
              "    }\n",
              "  </style>\n",
              "\n",
              "      <script>\n",
              "        const buttonEl =\n",
              "          document.querySelector('#df-fe41b704-0dd0-45a3-8968-0fade0cf682e button.colab-df-convert');\n",
              "        buttonEl.style.display =\n",
              "          google.colab.kernel.accessAllowed ? 'block' : 'none';\n",
              "\n",
              "        async function convertToInteractive(key) {\n",
              "          const element = document.querySelector('#df-fe41b704-0dd0-45a3-8968-0fade0cf682e');\n",
              "          const dataTable =\n",
              "            await google.colab.kernel.invokeFunction('convertToInteractive',\n",
              "                                                     [key], {});\n",
              "          if (!dataTable) return;\n",
              "\n",
              "          const docLinkHtml = 'Like what you see? Visit the ' +\n",
              "            '<a target=\"_blank\" href=https://colab.research.google.com/notebooks/data_table.ipynb>data table notebook</a>'\n",
              "            + ' to learn more about interactive tables.';\n",
              "          element.innerHTML = '';\n",
              "          dataTable['output_type'] = 'display_data';\n",
              "          await google.colab.output.renderOutput(dataTable, element);\n",
              "          const docLink = document.createElement('div');\n",
              "          docLink.innerHTML = docLinkHtml;\n",
              "          element.appendChild(docLink);\n",
              "        }\n",
              "      </script>\n",
              "    </div>\n",
              "  </div>\n",
              "  "
            ]
          },
          "metadata": {},
          "execution_count": 21
        }
      ]
    },
    {
      "cell_type": "code",
      "source": [
        "#Combinando os resultados das duas plataformas em um único dataset\n",
        "top_5_comparison = pd.merge(top_5_countries_netflix, top_5_countries_amazon, on = 'ranking', suffixes=('_netflix', '_amazon_prime'))\n",
        "\n",
        "# Preenchendo valores nulos com zero\n",
        "top_5_comparison = top_5_comparison.fillna(0)\n",
        "\n",
        "top_5_comparison"
      ],
      "metadata": {
        "colab": {
          "base_uri": "https://localhost:8080/",
          "height": 238
        },
        "id": "JBMZv4wVe4Jl",
        "outputId": "f1c6089c-1db0-406a-f215-93cca55d5c6e"
      },
      "execution_count": 22,
      "outputs": [
        {
          "output_type": "execute_result",
          "data": {
            "text/plain": [
              "        country_netflix  count_netflix country_amazon_prime  \\\n",
              "ranking                                                       \n",
              "1         United States           3690        United States   \n",
              "2                 India           1046                India   \n",
              "3        United Kingdom            806       United Kingdom   \n",
              "4                Canada            445               Canada   \n",
              "5                France            393               France   \n",
              "\n",
              "         count_amazon_prime  \n",
              "ranking                      \n",
              "1                       334  \n",
              "2                       246  \n",
              "3                        67  \n",
              "4                        35  \n",
              "5                        20  "
            ],
            "text/html": [
              "\n",
              "  <div id=\"df-e2a63dbe-bf87-409c-886a-66cfeb8ad24e\">\n",
              "    <div class=\"colab-df-container\">\n",
              "      <div>\n",
              "<style scoped>\n",
              "    .dataframe tbody tr th:only-of-type {\n",
              "        vertical-align: middle;\n",
              "    }\n",
              "\n",
              "    .dataframe tbody tr th {\n",
              "        vertical-align: top;\n",
              "    }\n",
              "\n",
              "    .dataframe thead th {\n",
              "        text-align: right;\n",
              "    }\n",
              "</style>\n",
              "<table border=\"1\" class=\"dataframe\">\n",
              "  <thead>\n",
              "    <tr style=\"text-align: right;\">\n",
              "      <th></th>\n",
              "      <th>country_netflix</th>\n",
              "      <th>count_netflix</th>\n",
              "      <th>country_amazon_prime</th>\n",
              "      <th>count_amazon_prime</th>\n",
              "    </tr>\n",
              "    <tr>\n",
              "      <th>ranking</th>\n",
              "      <th></th>\n",
              "      <th></th>\n",
              "      <th></th>\n",
              "      <th></th>\n",
              "    </tr>\n",
              "  </thead>\n",
              "  <tbody>\n",
              "    <tr>\n",
              "      <th>1</th>\n",
              "      <td>United States</td>\n",
              "      <td>3690</td>\n",
              "      <td>United States</td>\n",
              "      <td>334</td>\n",
              "    </tr>\n",
              "    <tr>\n",
              "      <th>2</th>\n",
              "      <td>India</td>\n",
              "      <td>1046</td>\n",
              "      <td>India</td>\n",
              "      <td>246</td>\n",
              "    </tr>\n",
              "    <tr>\n",
              "      <th>3</th>\n",
              "      <td>United Kingdom</td>\n",
              "      <td>806</td>\n",
              "      <td>United Kingdom</td>\n",
              "      <td>67</td>\n",
              "    </tr>\n",
              "    <tr>\n",
              "      <th>4</th>\n",
              "      <td>Canada</td>\n",
              "      <td>445</td>\n",
              "      <td>Canada</td>\n",
              "      <td>35</td>\n",
              "    </tr>\n",
              "    <tr>\n",
              "      <th>5</th>\n",
              "      <td>France</td>\n",
              "      <td>393</td>\n",
              "      <td>France</td>\n",
              "      <td>20</td>\n",
              "    </tr>\n",
              "  </tbody>\n",
              "</table>\n",
              "</div>\n",
              "      <button class=\"colab-df-convert\" onclick=\"convertToInteractive('df-e2a63dbe-bf87-409c-886a-66cfeb8ad24e')\"\n",
              "              title=\"Convert this dataframe to an interactive table.\"\n",
              "              style=\"display:none;\">\n",
              "        \n",
              "  <svg xmlns=\"http://www.w3.org/2000/svg\" height=\"24px\"viewBox=\"0 0 24 24\"\n",
              "       width=\"24px\">\n",
              "    <path d=\"M0 0h24v24H0V0z\" fill=\"none\"/>\n",
              "    <path d=\"M18.56 5.44l.94 2.06.94-2.06 2.06-.94-2.06-.94-.94-2.06-.94 2.06-2.06.94zm-11 1L8.5 8.5l.94-2.06 2.06-.94-2.06-.94L8.5 2.5l-.94 2.06-2.06.94zm10 10l.94 2.06.94-2.06 2.06-.94-2.06-.94-.94-2.06-.94 2.06-2.06.94z\"/><path d=\"M17.41 7.96l-1.37-1.37c-.4-.4-.92-.59-1.43-.59-.52 0-1.04.2-1.43.59L10.3 9.45l-7.72 7.72c-.78.78-.78 2.05 0 2.83L4 21.41c.39.39.9.59 1.41.59.51 0 1.02-.2 1.41-.59l7.78-7.78 2.81-2.81c.8-.78.8-2.07 0-2.86zM5.41 20L4 18.59l7.72-7.72 1.47 1.35L5.41 20z\"/>\n",
              "  </svg>\n",
              "      </button>\n",
              "      \n",
              "  <style>\n",
              "    .colab-df-container {\n",
              "      display:flex;\n",
              "      flex-wrap:wrap;\n",
              "      gap: 12px;\n",
              "    }\n",
              "\n",
              "    .colab-df-convert {\n",
              "      background-color: #E8F0FE;\n",
              "      border: none;\n",
              "      border-radius: 50%;\n",
              "      cursor: pointer;\n",
              "      display: none;\n",
              "      fill: #1967D2;\n",
              "      height: 32px;\n",
              "      padding: 0 0 0 0;\n",
              "      width: 32px;\n",
              "    }\n",
              "\n",
              "    .colab-df-convert:hover {\n",
              "      background-color: #E2EBFA;\n",
              "      box-shadow: 0px 1px 2px rgba(60, 64, 67, 0.3), 0px 1px 3px 1px rgba(60, 64, 67, 0.15);\n",
              "      fill: #174EA6;\n",
              "    }\n",
              "\n",
              "    [theme=dark] .colab-df-convert {\n",
              "      background-color: #3B4455;\n",
              "      fill: #D2E3FC;\n",
              "    }\n",
              "\n",
              "    [theme=dark] .colab-df-convert:hover {\n",
              "      background-color: #434B5C;\n",
              "      box-shadow: 0px 1px 3px 1px rgba(0, 0, 0, 0.15);\n",
              "      filter: drop-shadow(0px 1px 2px rgba(0, 0, 0, 0.3));\n",
              "      fill: #FFFFFF;\n",
              "    }\n",
              "  </style>\n",
              "\n",
              "      <script>\n",
              "        const buttonEl =\n",
              "          document.querySelector('#df-e2a63dbe-bf87-409c-886a-66cfeb8ad24e button.colab-df-convert');\n",
              "        buttonEl.style.display =\n",
              "          google.colab.kernel.accessAllowed ? 'block' : 'none';\n",
              "\n",
              "        async function convertToInteractive(key) {\n",
              "          const element = document.querySelector('#df-e2a63dbe-bf87-409c-886a-66cfeb8ad24e');\n",
              "          const dataTable =\n",
              "            await google.colab.kernel.invokeFunction('convertToInteractive',\n",
              "                                                     [key], {});\n",
              "          if (!dataTable) return;\n",
              "\n",
              "          const docLinkHtml = 'Like what you see? Visit the ' +\n",
              "            '<a target=\"_blank\" href=https://colab.research.google.com/notebooks/data_table.ipynb>data table notebook</a>'\n",
              "            + ' to learn more about interactive tables.';\n",
              "          element.innerHTML = '';\n",
              "          dataTable['output_type'] = 'display_data';\n",
              "          await google.colab.output.renderOutput(dataTable, element);\n",
              "          const docLink = document.createElement('div');\n",
              "          docLink.innerHTML = docLinkHtml;\n",
              "          element.appendChild(docLink);\n",
              "        }\n",
              "      </script>\n",
              "    </div>\n",
              "  </div>\n",
              "  "
            ]
          },
          "metadata": {},
          "execution_count": 22
        }
      ]
    },
    {
      "cell_type": "markdown",
      "source": [
        "##Mês no qual há mais adições de filmes na plataforma Netflix"
      ],
      "metadata": {
        "id": "_dXnLhXuW_-P"
      }
    },
    {
      "cell_type": "code",
      "source": [
        "# Filtrando por filmes\n",
        "movies_netflix = dados[(dados['type'] == 'Movie') & (dados['streaming'] == 'netflix')]"
      ],
      "metadata": {
        "id": "rv4ueyGje72H"
      },
      "execution_count": 23,
      "outputs": []
    },
    {
      "cell_type": "code",
      "source": [
        "#Contando através dos dados agrupados pela coluna 'month_added' e ordenando os dados em ordem decrescente por mês \n",
        "movies_month = movies_netflix.groupby('month_added').size().sort_values(ascending=False).head(1).to_frame()"
      ],
      "metadata": {
        "id": "oxj5_z7Qc8up"
      },
      "execution_count": 24,
      "outputs": []
    },
    {
      "cell_type": "code",
      "source": [
        "#Renomeando coluna de quantidade\n",
        "movies_month.rename(columns={ movies_month.columns[0]: \"amount\" }, inplace = True)\n",
        "movies_month"
      ],
      "metadata": {
        "colab": {
          "base_uri": "https://localhost:8080/",
          "height": 112
        },
        "id": "JcFo12eVdGtN",
        "outputId": "e65ab1a0-f889-4cae-d0c9-84952cc0366d"
      },
      "execution_count": 25,
      "outputs": [
        {
          "output_type": "execute_result",
          "data": {
            "text/plain": [
              "             amount\n",
              "month_added        \n",
              "July            565"
            ],
            "text/html": [
              "\n",
              "  <div id=\"df-72e06ee0-de75-47b3-bf63-9094a364e038\">\n",
              "    <div class=\"colab-df-container\">\n",
              "      <div>\n",
              "<style scoped>\n",
              "    .dataframe tbody tr th:only-of-type {\n",
              "        vertical-align: middle;\n",
              "    }\n",
              "\n",
              "    .dataframe tbody tr th {\n",
              "        vertical-align: top;\n",
              "    }\n",
              "\n",
              "    .dataframe thead th {\n",
              "        text-align: right;\n",
              "    }\n",
              "</style>\n",
              "<table border=\"1\" class=\"dataframe\">\n",
              "  <thead>\n",
              "    <tr style=\"text-align: right;\">\n",
              "      <th></th>\n",
              "      <th>amount</th>\n",
              "    </tr>\n",
              "    <tr>\n",
              "      <th>month_added</th>\n",
              "      <th></th>\n",
              "    </tr>\n",
              "  </thead>\n",
              "  <tbody>\n",
              "    <tr>\n",
              "      <th>July</th>\n",
              "      <td>565</td>\n",
              "    </tr>\n",
              "  </tbody>\n",
              "</table>\n",
              "</div>\n",
              "      <button class=\"colab-df-convert\" onclick=\"convertToInteractive('df-72e06ee0-de75-47b3-bf63-9094a364e038')\"\n",
              "              title=\"Convert this dataframe to an interactive table.\"\n",
              "              style=\"display:none;\">\n",
              "        \n",
              "  <svg xmlns=\"http://www.w3.org/2000/svg\" height=\"24px\"viewBox=\"0 0 24 24\"\n",
              "       width=\"24px\">\n",
              "    <path d=\"M0 0h24v24H0V0z\" fill=\"none\"/>\n",
              "    <path d=\"M18.56 5.44l.94 2.06.94-2.06 2.06-.94-2.06-.94-.94-2.06-.94 2.06-2.06.94zm-11 1L8.5 8.5l.94-2.06 2.06-.94-2.06-.94L8.5 2.5l-.94 2.06-2.06.94zm10 10l.94 2.06.94-2.06 2.06-.94-2.06-.94-.94-2.06-.94 2.06-2.06.94z\"/><path d=\"M17.41 7.96l-1.37-1.37c-.4-.4-.92-.59-1.43-.59-.52 0-1.04.2-1.43.59L10.3 9.45l-7.72 7.72c-.78.78-.78 2.05 0 2.83L4 21.41c.39.39.9.59 1.41.59.51 0 1.02-.2 1.41-.59l7.78-7.78 2.81-2.81c.8-.78.8-2.07 0-2.86zM5.41 20L4 18.59l7.72-7.72 1.47 1.35L5.41 20z\"/>\n",
              "  </svg>\n",
              "      </button>\n",
              "      \n",
              "  <style>\n",
              "    .colab-df-container {\n",
              "      display:flex;\n",
              "      flex-wrap:wrap;\n",
              "      gap: 12px;\n",
              "    }\n",
              "\n",
              "    .colab-df-convert {\n",
              "      background-color: #E8F0FE;\n",
              "      border: none;\n",
              "      border-radius: 50%;\n",
              "      cursor: pointer;\n",
              "      display: none;\n",
              "      fill: #1967D2;\n",
              "      height: 32px;\n",
              "      padding: 0 0 0 0;\n",
              "      width: 32px;\n",
              "    }\n",
              "\n",
              "    .colab-df-convert:hover {\n",
              "      background-color: #E2EBFA;\n",
              "      box-shadow: 0px 1px 2px rgba(60, 64, 67, 0.3), 0px 1px 3px 1px rgba(60, 64, 67, 0.15);\n",
              "      fill: #174EA6;\n",
              "    }\n",
              "\n",
              "    [theme=dark] .colab-df-convert {\n",
              "      background-color: #3B4455;\n",
              "      fill: #D2E3FC;\n",
              "    }\n",
              "\n",
              "    [theme=dark] .colab-df-convert:hover {\n",
              "      background-color: #434B5C;\n",
              "      box-shadow: 0px 1px 3px 1px rgba(0, 0, 0, 0.15);\n",
              "      filter: drop-shadow(0px 1px 2px rgba(0, 0, 0, 0.3));\n",
              "      fill: #FFFFFF;\n",
              "    }\n",
              "  </style>\n",
              "\n",
              "      <script>\n",
              "        const buttonEl =\n",
              "          document.querySelector('#df-72e06ee0-de75-47b3-bf63-9094a364e038 button.colab-df-convert');\n",
              "        buttonEl.style.display =\n",
              "          google.colab.kernel.accessAllowed ? 'block' : 'none';\n",
              "\n",
              "        async function convertToInteractive(key) {\n",
              "          const element = document.querySelector('#df-72e06ee0-de75-47b3-bf63-9094a364e038');\n",
              "          const dataTable =\n",
              "            await google.colab.kernel.invokeFunction('convertToInteractive',\n",
              "                                                     [key], {});\n",
              "          if (!dataTable) return;\n",
              "\n",
              "          const docLinkHtml = 'Like what you see? Visit the ' +\n",
              "            '<a target=\"_blank\" href=https://colab.research.google.com/notebooks/data_table.ipynb>data table notebook</a>'\n",
              "            + ' to learn more about interactive tables.';\n",
              "          element.innerHTML = '';\n",
              "          dataTable['output_type'] = 'display_data';\n",
              "          await google.colab.output.renderOutput(dataTable, element);\n",
              "          const docLink = document.createElement('div');\n",
              "          docLink.innerHTML = docLinkHtml;\n",
              "          element.appendChild(docLink);\n",
              "        }\n",
              "      </script>\n",
              "    </div>\n",
              "  </div>\n",
              "  "
            ]
          },
          "metadata": {},
          "execution_count": 25
        }
      ]
    },
    {
      "cell_type": "markdown",
      "source": [
        "##Quantidade de filmes listados como comédia"
      ],
      "metadata": {
        "id": "k4sRImCfXAAe"
      }
    },
    {
      "cell_type": "code",
      "source": [
        "#Criando dataset com dados da coluna 'listed_in', tratando os dados. Separando o nome por vírgula e criando uma linha para cada\n",
        "dados_comedies = dados['listed_in'].str.split(',').explode()[dados['type'] == 'Movie']\n",
        "\n",
        "#Removendo espaços\n",
        "dados_comedies = dados_comedies.str.strip()\n",
        "\n",
        "#Verificando genêros\n",
        "dados_comedies.unique()"
      ],
      "metadata": {
        "colab": {
          "base_uri": "https://localhost:8080/"
        },
        "id": "k7YFYDund7wR",
        "outputId": "fd23e0c8-ad68-428f-fd71-351bf0ed4c22"
      },
      "execution_count": 26,
      "outputs": [
        {
          "output_type": "execute_result",
          "data": {
            "text/plain": [
              "array(['Comedy', 'Drama', 'International', 'Action', 'Suspense',\n",
              "       'Documentary', 'Fantasy', 'Kids', 'Special Interest',\n",
              "       'Science Fiction', 'Adventure', 'Horror', 'Sports', 'Arts',\n",
              "       'Entertainment', 'and Culture', 'Music Videos and Concerts',\n",
              "       'Fitness', 'Faith and Spirituality', 'Military and War', 'Western',\n",
              "       'LGBTQ', 'Animation', 'Young Adult Audience', 'Arthouse', 'Anime',\n",
              "       'Romance', 'Talk Show and Variety', 'Historical', 'Unscripted',\n",
              "       'Documentaries', 'Children & Family Movies', 'Dramas',\n",
              "       'Independent Movies', 'International Movies', 'Comedies',\n",
              "       'Thrillers', 'Romantic Movies', 'Music & Musicals',\n",
              "       'Horror Movies', 'Sci-Fi & Fantasy', 'Action & Adventure',\n",
              "       'Classic Movies', 'Anime Features', 'Sports Movies', 'Cult Movies',\n",
              "       'Faith & Spirituality', 'LGBTQ Movies', 'Stand-Up Comedy',\n",
              "       'Movies'], dtype=object)"
            ]
          },
          "metadata": {},
          "execution_count": 26
        }
      ]
    },
    {
      "cell_type": "code",
      "source": [
        "#Criando dataset verificando strings que contenham 'Comed' \n",
        "comedy_genres = dados_comedies[(dados_comedies.str.contains('Comed'))]\n",
        "comedy_genres"
      ],
      "metadata": {
        "colab": {
          "base_uri": "https://localhost:8080/"
        },
        "id": "KU68lu3rgfG_",
        "outputId": "62f733ec-5849-40ba-f1ae-1db9291fe768"
      },
      "execution_count": 27,
      "outputs": [
        {
          "output_type": "execute_result",
          "data": {
            "text/plain": [
              "0          Comedy\n",
              "7          Comedy\n",
              "11         Comedy\n",
              "15         Comedy\n",
              "22         Comedy\n",
              "           ...   \n",
              "18459    Comedies\n",
              "18461    Comedies\n",
              "18466    Comedies\n",
              "18472    Comedies\n",
              "18473    Comedies\n",
              "Name: listed_in, Length: 3838, dtype: object"
            ]
          },
          "metadata": {},
          "execution_count": 27
        }
      ]
    },
    {
      "cell_type": "code",
      "source": [
        "#Contando quantidade de filmes listado como comédia\n",
        "dados_comedies = len(comedy_genres)\n",
        "dados_comedies"
      ],
      "metadata": {
        "colab": {
          "base_uri": "https://localhost:8080/"
        },
        "id": "24ebScHohYe0",
        "outputId": "9826e8c9-159f-4c86-af75-4cc8c37f3765"
      },
      "execution_count": 28,
      "outputs": [
        {
          "output_type": "execute_result",
          "data": {
            "text/plain": [
              "3838"
            ]
          },
          "metadata": {},
          "execution_count": 28
        }
      ]
    },
    {
      "cell_type": "markdown",
      "source": [
        "##Lista de todos os gêneros de filmes\n"
      ],
      "metadata": {
        "id": "Dis5G0f4XACv"
      }
    },
    {
      "cell_type": "code",
      "source": [
        "#Criando um dataset com filtro \"Movie\"\n",
        "dados_movie = dados[dados['type'] == 'Movie']\n",
        "dados_movie"
      ],
      "metadata": {
        "colab": {
          "base_uri": "https://localhost:8080/",
          "height": 641
        },
        "id": "4JyYv_WAiKek",
        "outputId": "019ee34b-2991-437a-95a9-b7c485731a39"
      },
      "execution_count": 29,
      "outputs": [
        {
          "output_type": "execute_result",
          "data": {
            "text/plain": [
              "      show_id   type                 title         director  \\\n",
              "0          s1  Movie   The Grand Seduction     Don McKellar   \n",
              "1          s2  Movie  Take Care Good Night     Girish Joshi   \n",
              "2          s3  Movie  Secrets of Deception      Josh Webber   \n",
              "3          s4  Movie    Pink: Staying True   Sonia Anderson   \n",
              "4          s5  Movie         Monster Maker     Giles Foster   \n",
              "...       ...    ...                   ...              ...   \n",
              "18469   s8802  Movie               Zinzana  Majid Al Ansari   \n",
              "18470   s8803  Movie                Zodiac    David Fincher   \n",
              "18472   s8805  Movie            Zombieland  Ruben Fleischer   \n",
              "18473   s8806  Movie                  Zoom     Peter Hewitt   \n",
              "18474   s8807  Movie                Zubaan      Mozez Singh   \n",
              "\n",
              "                                                    cast  \\\n",
              "0         Brendan Gleeson, Taylor Kitsch, Gordon Pinsent   \n",
              "1       Mahesh Manjrekar, Abhay Mahajan, Sachin Khedekar   \n",
              "2      Tom Sizemore, Lorenzo Lamas, Robert LaSardo, R...   \n",
              "3      Interviews with: Pink, Adele, Beyoncé, Britney...   \n",
              "4      Harry Dean Stanton, Kieran O'Brien, George Cos...   \n",
              "...                                                  ...   \n",
              "18469  Ali Suliman, Saleh Bakri, Yasa, Ali Al-Jabri, ...   \n",
              "18470  Mark Ruffalo, Jake Gyllenhaal, Robert Downey J...   \n",
              "18472  Jesse Eisenberg, Woody Harrelson, Emma Stone, ...   \n",
              "18473  Tim Allen, Courteney Cox, Chevy Chase, Kate Ma...   \n",
              "18474  Vicky Kaushal, Sarah-Jane Dias, Raaghav Chanan...   \n",
              "\n",
              "                            country date_added  release_year rating duration  \\\n",
              "0                            Canada 2021-03-30          2014    NaN  113 min   \n",
              "1                             India 2021-03-30          2018    13+  110 min   \n",
              "2                     United States 2021-03-30          2017    NaN   74 min   \n",
              "3                     United States 2021-03-30          2014    NaN   69 min   \n",
              "4                    United Kingdom 2021-03-30          1989    NaN   45 min   \n",
              "...                             ...        ...           ...    ...      ...   \n",
              "18469  United Arab Emirates, Jordan 2016-03-09          2015  TV-MA   96 min   \n",
              "18470                 United States 2019-11-20          2007      R  158 min   \n",
              "18472                 United States 2019-11-01          2009      R   88 min   \n",
              "18473                 United States 2020-01-11          2006     PG   88 min   \n",
              "18474                         India 2019-03-02          2015  TV-14  111 min   \n",
              "\n",
              "                                            listed_in  \\\n",
              "0                                       Comedy, Drama   \n",
              "1                                Drama, International   \n",
              "2                             Action, Drama, Suspense   \n",
              "3                                         Documentary   \n",
              "4                                      Drama, Fantasy   \n",
              "...                                               ...   \n",
              "18469         Dramas, International Movies, Thrillers   \n",
              "18470                  Cult Movies, Dramas, Thrillers   \n",
              "18472                         Comedies, Horror Movies   \n",
              "18473              Children & Family Movies, Comedies   \n",
              "18474  Dramas, International Movies, Music & Musicals   \n",
              "\n",
              "                                             description     streaming  \\\n",
              "0      A small fishing village must procure a local d...  amazon_prime   \n",
              "1      A Metro Family decides to fight a Cyber Crimin...  amazon_prime   \n",
              "2      After a man discovers his wife is cheating on ...  amazon_prime   \n",
              "3      Pink breaks the mold once again, bringing her ...  amazon_prime   \n",
              "4      Teenage Matt Banting wants to work with a famo...  amazon_prime   \n",
              "...                                                  ...           ...   \n",
              "18469  Recovering alcoholic Talal wakes up inside a s...       netflix   \n",
              "18470  A political cartoonist, a crime reporter and a...       netflix   \n",
              "18472  Looking to survive in a world taken over by zo...       netflix   \n",
              "18473  Dragged from civilian life, a former superhero...       netflix   \n",
              "18474  A scrappy but poor boy worms his way into a ty...       netflix   \n",
              "\n",
              "      month_added  \n",
              "0           March  \n",
              "1           March  \n",
              "2           March  \n",
              "3           March  \n",
              "4           March  \n",
              "...           ...  \n",
              "18469       March  \n",
              "18470    November  \n",
              "18472    November  \n",
              "18473     January  \n",
              "18474       March  \n",
              "\n",
              "[13945 rows x 14 columns]"
            ],
            "text/html": [
              "\n",
              "  <div id=\"df-8a3ad2cd-f3d9-4d04-8c84-5795e1a0a20d\">\n",
              "    <div class=\"colab-df-container\">\n",
              "      <div>\n",
              "<style scoped>\n",
              "    .dataframe tbody tr th:only-of-type {\n",
              "        vertical-align: middle;\n",
              "    }\n",
              "\n",
              "    .dataframe tbody tr th {\n",
              "        vertical-align: top;\n",
              "    }\n",
              "\n",
              "    .dataframe thead th {\n",
              "        text-align: right;\n",
              "    }\n",
              "</style>\n",
              "<table border=\"1\" class=\"dataframe\">\n",
              "  <thead>\n",
              "    <tr style=\"text-align: right;\">\n",
              "      <th></th>\n",
              "      <th>show_id</th>\n",
              "      <th>type</th>\n",
              "      <th>title</th>\n",
              "      <th>director</th>\n",
              "      <th>cast</th>\n",
              "      <th>country</th>\n",
              "      <th>date_added</th>\n",
              "      <th>release_year</th>\n",
              "      <th>rating</th>\n",
              "      <th>duration</th>\n",
              "      <th>listed_in</th>\n",
              "      <th>description</th>\n",
              "      <th>streaming</th>\n",
              "      <th>month_added</th>\n",
              "    </tr>\n",
              "  </thead>\n",
              "  <tbody>\n",
              "    <tr>\n",
              "      <th>0</th>\n",
              "      <td>s1</td>\n",
              "      <td>Movie</td>\n",
              "      <td>The Grand Seduction</td>\n",
              "      <td>Don McKellar</td>\n",
              "      <td>Brendan Gleeson, Taylor Kitsch, Gordon Pinsent</td>\n",
              "      <td>Canada</td>\n",
              "      <td>2021-03-30</td>\n",
              "      <td>2014</td>\n",
              "      <td>NaN</td>\n",
              "      <td>113 min</td>\n",
              "      <td>Comedy, Drama</td>\n",
              "      <td>A small fishing village must procure a local d...</td>\n",
              "      <td>amazon_prime</td>\n",
              "      <td>March</td>\n",
              "    </tr>\n",
              "    <tr>\n",
              "      <th>1</th>\n",
              "      <td>s2</td>\n",
              "      <td>Movie</td>\n",
              "      <td>Take Care Good Night</td>\n",
              "      <td>Girish Joshi</td>\n",
              "      <td>Mahesh Manjrekar, Abhay Mahajan, Sachin Khedekar</td>\n",
              "      <td>India</td>\n",
              "      <td>2021-03-30</td>\n",
              "      <td>2018</td>\n",
              "      <td>13+</td>\n",
              "      <td>110 min</td>\n",
              "      <td>Drama, International</td>\n",
              "      <td>A Metro Family decides to fight a Cyber Crimin...</td>\n",
              "      <td>amazon_prime</td>\n",
              "      <td>March</td>\n",
              "    </tr>\n",
              "    <tr>\n",
              "      <th>2</th>\n",
              "      <td>s3</td>\n",
              "      <td>Movie</td>\n",
              "      <td>Secrets of Deception</td>\n",
              "      <td>Josh Webber</td>\n",
              "      <td>Tom Sizemore, Lorenzo Lamas, Robert LaSardo, R...</td>\n",
              "      <td>United States</td>\n",
              "      <td>2021-03-30</td>\n",
              "      <td>2017</td>\n",
              "      <td>NaN</td>\n",
              "      <td>74 min</td>\n",
              "      <td>Action, Drama, Suspense</td>\n",
              "      <td>After a man discovers his wife is cheating on ...</td>\n",
              "      <td>amazon_prime</td>\n",
              "      <td>March</td>\n",
              "    </tr>\n",
              "    <tr>\n",
              "      <th>3</th>\n",
              "      <td>s4</td>\n",
              "      <td>Movie</td>\n",
              "      <td>Pink: Staying True</td>\n",
              "      <td>Sonia Anderson</td>\n",
              "      <td>Interviews with: Pink, Adele, Beyoncé, Britney...</td>\n",
              "      <td>United States</td>\n",
              "      <td>2021-03-30</td>\n",
              "      <td>2014</td>\n",
              "      <td>NaN</td>\n",
              "      <td>69 min</td>\n",
              "      <td>Documentary</td>\n",
              "      <td>Pink breaks the mold once again, bringing her ...</td>\n",
              "      <td>amazon_prime</td>\n",
              "      <td>March</td>\n",
              "    </tr>\n",
              "    <tr>\n",
              "      <th>4</th>\n",
              "      <td>s5</td>\n",
              "      <td>Movie</td>\n",
              "      <td>Monster Maker</td>\n",
              "      <td>Giles Foster</td>\n",
              "      <td>Harry Dean Stanton, Kieran O'Brien, George Cos...</td>\n",
              "      <td>United Kingdom</td>\n",
              "      <td>2021-03-30</td>\n",
              "      <td>1989</td>\n",
              "      <td>NaN</td>\n",
              "      <td>45 min</td>\n",
              "      <td>Drama, Fantasy</td>\n",
              "      <td>Teenage Matt Banting wants to work with a famo...</td>\n",
              "      <td>amazon_prime</td>\n",
              "      <td>March</td>\n",
              "    </tr>\n",
              "    <tr>\n",
              "      <th>...</th>\n",
              "      <td>...</td>\n",
              "      <td>...</td>\n",
              "      <td>...</td>\n",
              "      <td>...</td>\n",
              "      <td>...</td>\n",
              "      <td>...</td>\n",
              "      <td>...</td>\n",
              "      <td>...</td>\n",
              "      <td>...</td>\n",
              "      <td>...</td>\n",
              "      <td>...</td>\n",
              "      <td>...</td>\n",
              "      <td>...</td>\n",
              "      <td>...</td>\n",
              "    </tr>\n",
              "    <tr>\n",
              "      <th>18469</th>\n",
              "      <td>s8802</td>\n",
              "      <td>Movie</td>\n",
              "      <td>Zinzana</td>\n",
              "      <td>Majid Al Ansari</td>\n",
              "      <td>Ali Suliman, Saleh Bakri, Yasa, Ali Al-Jabri, ...</td>\n",
              "      <td>United Arab Emirates, Jordan</td>\n",
              "      <td>2016-03-09</td>\n",
              "      <td>2015</td>\n",
              "      <td>TV-MA</td>\n",
              "      <td>96 min</td>\n",
              "      <td>Dramas, International Movies, Thrillers</td>\n",
              "      <td>Recovering alcoholic Talal wakes up inside a s...</td>\n",
              "      <td>netflix</td>\n",
              "      <td>March</td>\n",
              "    </tr>\n",
              "    <tr>\n",
              "      <th>18470</th>\n",
              "      <td>s8803</td>\n",
              "      <td>Movie</td>\n",
              "      <td>Zodiac</td>\n",
              "      <td>David Fincher</td>\n",
              "      <td>Mark Ruffalo, Jake Gyllenhaal, Robert Downey J...</td>\n",
              "      <td>United States</td>\n",
              "      <td>2019-11-20</td>\n",
              "      <td>2007</td>\n",
              "      <td>R</td>\n",
              "      <td>158 min</td>\n",
              "      <td>Cult Movies, Dramas, Thrillers</td>\n",
              "      <td>A political cartoonist, a crime reporter and a...</td>\n",
              "      <td>netflix</td>\n",
              "      <td>November</td>\n",
              "    </tr>\n",
              "    <tr>\n",
              "      <th>18472</th>\n",
              "      <td>s8805</td>\n",
              "      <td>Movie</td>\n",
              "      <td>Zombieland</td>\n",
              "      <td>Ruben Fleischer</td>\n",
              "      <td>Jesse Eisenberg, Woody Harrelson, Emma Stone, ...</td>\n",
              "      <td>United States</td>\n",
              "      <td>2019-11-01</td>\n",
              "      <td>2009</td>\n",
              "      <td>R</td>\n",
              "      <td>88 min</td>\n",
              "      <td>Comedies, Horror Movies</td>\n",
              "      <td>Looking to survive in a world taken over by zo...</td>\n",
              "      <td>netflix</td>\n",
              "      <td>November</td>\n",
              "    </tr>\n",
              "    <tr>\n",
              "      <th>18473</th>\n",
              "      <td>s8806</td>\n",
              "      <td>Movie</td>\n",
              "      <td>Zoom</td>\n",
              "      <td>Peter Hewitt</td>\n",
              "      <td>Tim Allen, Courteney Cox, Chevy Chase, Kate Ma...</td>\n",
              "      <td>United States</td>\n",
              "      <td>2020-01-11</td>\n",
              "      <td>2006</td>\n",
              "      <td>PG</td>\n",
              "      <td>88 min</td>\n",
              "      <td>Children &amp; Family Movies, Comedies</td>\n",
              "      <td>Dragged from civilian life, a former superhero...</td>\n",
              "      <td>netflix</td>\n",
              "      <td>January</td>\n",
              "    </tr>\n",
              "    <tr>\n",
              "      <th>18474</th>\n",
              "      <td>s8807</td>\n",
              "      <td>Movie</td>\n",
              "      <td>Zubaan</td>\n",
              "      <td>Mozez Singh</td>\n",
              "      <td>Vicky Kaushal, Sarah-Jane Dias, Raaghav Chanan...</td>\n",
              "      <td>India</td>\n",
              "      <td>2019-03-02</td>\n",
              "      <td>2015</td>\n",
              "      <td>TV-14</td>\n",
              "      <td>111 min</td>\n",
              "      <td>Dramas, International Movies, Music &amp; Musicals</td>\n",
              "      <td>A scrappy but poor boy worms his way into a ty...</td>\n",
              "      <td>netflix</td>\n",
              "      <td>March</td>\n",
              "    </tr>\n",
              "  </tbody>\n",
              "</table>\n",
              "<p>13945 rows × 14 columns</p>\n",
              "</div>\n",
              "      <button class=\"colab-df-convert\" onclick=\"convertToInteractive('df-8a3ad2cd-f3d9-4d04-8c84-5795e1a0a20d')\"\n",
              "              title=\"Convert this dataframe to an interactive table.\"\n",
              "              style=\"display:none;\">\n",
              "        \n",
              "  <svg xmlns=\"http://www.w3.org/2000/svg\" height=\"24px\"viewBox=\"0 0 24 24\"\n",
              "       width=\"24px\">\n",
              "    <path d=\"M0 0h24v24H0V0z\" fill=\"none\"/>\n",
              "    <path d=\"M18.56 5.44l.94 2.06.94-2.06 2.06-.94-2.06-.94-.94-2.06-.94 2.06-2.06.94zm-11 1L8.5 8.5l.94-2.06 2.06-.94-2.06-.94L8.5 2.5l-.94 2.06-2.06.94zm10 10l.94 2.06.94-2.06 2.06-.94-2.06-.94-.94-2.06-.94 2.06-2.06.94z\"/><path d=\"M17.41 7.96l-1.37-1.37c-.4-.4-.92-.59-1.43-.59-.52 0-1.04.2-1.43.59L10.3 9.45l-7.72 7.72c-.78.78-.78 2.05 0 2.83L4 21.41c.39.39.9.59 1.41.59.51 0 1.02-.2 1.41-.59l7.78-7.78 2.81-2.81c.8-.78.8-2.07 0-2.86zM5.41 20L4 18.59l7.72-7.72 1.47 1.35L5.41 20z\"/>\n",
              "  </svg>\n",
              "      </button>\n",
              "      \n",
              "  <style>\n",
              "    .colab-df-container {\n",
              "      display:flex;\n",
              "      flex-wrap:wrap;\n",
              "      gap: 12px;\n",
              "    }\n",
              "\n",
              "    .colab-df-convert {\n",
              "      background-color: #E8F0FE;\n",
              "      border: none;\n",
              "      border-radius: 50%;\n",
              "      cursor: pointer;\n",
              "      display: none;\n",
              "      fill: #1967D2;\n",
              "      height: 32px;\n",
              "      padding: 0 0 0 0;\n",
              "      width: 32px;\n",
              "    }\n",
              "\n",
              "    .colab-df-convert:hover {\n",
              "      background-color: #E2EBFA;\n",
              "      box-shadow: 0px 1px 2px rgba(60, 64, 67, 0.3), 0px 1px 3px 1px rgba(60, 64, 67, 0.15);\n",
              "      fill: #174EA6;\n",
              "    }\n",
              "\n",
              "    [theme=dark] .colab-df-convert {\n",
              "      background-color: #3B4455;\n",
              "      fill: #D2E3FC;\n",
              "    }\n",
              "\n",
              "    [theme=dark] .colab-df-convert:hover {\n",
              "      background-color: #434B5C;\n",
              "      box-shadow: 0px 1px 3px 1px rgba(0, 0, 0, 0.15);\n",
              "      filter: drop-shadow(0px 1px 2px rgba(0, 0, 0, 0.3));\n",
              "      fill: #FFFFFF;\n",
              "    }\n",
              "  </style>\n",
              "\n",
              "      <script>\n",
              "        const buttonEl =\n",
              "          document.querySelector('#df-8a3ad2cd-f3d9-4d04-8c84-5795e1a0a20d button.colab-df-convert');\n",
              "        buttonEl.style.display =\n",
              "          google.colab.kernel.accessAllowed ? 'block' : 'none';\n",
              "\n",
              "        async function convertToInteractive(key) {\n",
              "          const element = document.querySelector('#df-8a3ad2cd-f3d9-4d04-8c84-5795e1a0a20d');\n",
              "          const dataTable =\n",
              "            await google.colab.kernel.invokeFunction('convertToInteractive',\n",
              "                                                     [key], {});\n",
              "          if (!dataTable) return;\n",
              "\n",
              "          const docLinkHtml = 'Like what you see? Visit the ' +\n",
              "            '<a target=\"_blank\" href=https://colab.research.google.com/notebooks/data_table.ipynb>data table notebook</a>'\n",
              "            + ' to learn more about interactive tables.';\n",
              "          element.innerHTML = '';\n",
              "          dataTable['output_type'] = 'display_data';\n",
              "          await google.colab.output.renderOutput(dataTable, element);\n",
              "          const docLink = document.createElement('div');\n",
              "          docLink.innerHTML = docLinkHtml;\n",
              "          element.appendChild(docLink);\n",
              "        }\n",
              "      </script>\n",
              "    </div>\n",
              "  </div>\n",
              "  "
            ]
          },
          "metadata": {},
          "execution_count": 29
        }
      ]
    },
    {
      "cell_type": "code",
      "source": [
        "# Criando uma lista de todos os gêneros de filmes presentes na coluna 'listed_in'\n",
        "movie_genres = []\n",
        "for genres_str in dados_movie['listed_in']:\n",
        "    genres_list = genres_str.split(', ')\n",
        "    for genre in genres_list:\n",
        "        if genre not in movie_genres:\n",
        "            movie_genres.append(genre)"
      ],
      "metadata": {
        "id": "8sxf9JW1iKh-"
      },
      "execution_count": 30,
      "outputs": []
    },
    {
      "cell_type": "code",
      "source": [
        "#Transformando em dataset para exibição\n",
        "movie_genres = pd.DataFrame(movie_genres, columns=['genre'])\n",
        "movie_genres"
      ],
      "metadata": {
        "colab": {
          "base_uri": "https://localhost:8080/",
          "height": 1000
        },
        "id": "5Wte5eXViKks",
        "outputId": "47ca4f1c-ea59-4de0-d164-16e406c36c97"
      },
      "execution_count": 31,
      "outputs": [
        {
          "output_type": "execute_result",
          "data": {
            "text/plain": [
              "                        genre\n",
              "0                      Comedy\n",
              "1                       Drama\n",
              "2               International\n",
              "3                      Action\n",
              "4                    Suspense\n",
              "5                 Documentary\n",
              "6                     Fantasy\n",
              "7                        Kids\n",
              "8            Special Interest\n",
              "9             Science Fiction\n",
              "10                  Adventure\n",
              "11                     Horror\n",
              "12                     Sports\n",
              "13                       Arts\n",
              "14              Entertainment\n",
              "15                and Culture\n",
              "16  Music Videos and Concerts\n",
              "17                    Fitness\n",
              "18     Faith and Spirituality\n",
              "19           Military and War\n",
              "20                    Western\n",
              "21                      LGBTQ\n",
              "22                  Animation\n",
              "23       Young Adult Audience\n",
              "24                   Arthouse\n",
              "25                      Anime\n",
              "26                    Romance\n",
              "27      Talk Show and Variety\n",
              "28                 Historical\n",
              "29                 Unscripted\n",
              "30              Documentaries\n",
              "31   Children & Family Movies\n",
              "32                     Dramas\n",
              "33         Independent Movies\n",
              "34       International Movies\n",
              "35                   Comedies\n",
              "36                  Thrillers\n",
              "37            Romantic Movies\n",
              "38           Music & Musicals\n",
              "39              Horror Movies\n",
              "40           Sci-Fi & Fantasy\n",
              "41         Action & Adventure\n",
              "42             Classic Movies\n",
              "43             Anime Features\n",
              "44              Sports Movies\n",
              "45                Cult Movies\n",
              "46       Faith & Spirituality\n",
              "47               LGBTQ Movies\n",
              "48            Stand-Up Comedy\n",
              "49                     Movies"
            ],
            "text/html": [
              "\n",
              "  <div id=\"df-b562475e-9d66-4a73-9f80-31cec9c51a62\">\n",
              "    <div class=\"colab-df-container\">\n",
              "      <div>\n",
              "<style scoped>\n",
              "    .dataframe tbody tr th:only-of-type {\n",
              "        vertical-align: middle;\n",
              "    }\n",
              "\n",
              "    .dataframe tbody tr th {\n",
              "        vertical-align: top;\n",
              "    }\n",
              "\n",
              "    .dataframe thead th {\n",
              "        text-align: right;\n",
              "    }\n",
              "</style>\n",
              "<table border=\"1\" class=\"dataframe\">\n",
              "  <thead>\n",
              "    <tr style=\"text-align: right;\">\n",
              "      <th></th>\n",
              "      <th>genre</th>\n",
              "    </tr>\n",
              "  </thead>\n",
              "  <tbody>\n",
              "    <tr>\n",
              "      <th>0</th>\n",
              "      <td>Comedy</td>\n",
              "    </tr>\n",
              "    <tr>\n",
              "      <th>1</th>\n",
              "      <td>Drama</td>\n",
              "    </tr>\n",
              "    <tr>\n",
              "      <th>2</th>\n",
              "      <td>International</td>\n",
              "    </tr>\n",
              "    <tr>\n",
              "      <th>3</th>\n",
              "      <td>Action</td>\n",
              "    </tr>\n",
              "    <tr>\n",
              "      <th>4</th>\n",
              "      <td>Suspense</td>\n",
              "    </tr>\n",
              "    <tr>\n",
              "      <th>5</th>\n",
              "      <td>Documentary</td>\n",
              "    </tr>\n",
              "    <tr>\n",
              "      <th>6</th>\n",
              "      <td>Fantasy</td>\n",
              "    </tr>\n",
              "    <tr>\n",
              "      <th>7</th>\n",
              "      <td>Kids</td>\n",
              "    </tr>\n",
              "    <tr>\n",
              "      <th>8</th>\n",
              "      <td>Special Interest</td>\n",
              "    </tr>\n",
              "    <tr>\n",
              "      <th>9</th>\n",
              "      <td>Science Fiction</td>\n",
              "    </tr>\n",
              "    <tr>\n",
              "      <th>10</th>\n",
              "      <td>Adventure</td>\n",
              "    </tr>\n",
              "    <tr>\n",
              "      <th>11</th>\n",
              "      <td>Horror</td>\n",
              "    </tr>\n",
              "    <tr>\n",
              "      <th>12</th>\n",
              "      <td>Sports</td>\n",
              "    </tr>\n",
              "    <tr>\n",
              "      <th>13</th>\n",
              "      <td>Arts</td>\n",
              "    </tr>\n",
              "    <tr>\n",
              "      <th>14</th>\n",
              "      <td>Entertainment</td>\n",
              "    </tr>\n",
              "    <tr>\n",
              "      <th>15</th>\n",
              "      <td>and Culture</td>\n",
              "    </tr>\n",
              "    <tr>\n",
              "      <th>16</th>\n",
              "      <td>Music Videos and Concerts</td>\n",
              "    </tr>\n",
              "    <tr>\n",
              "      <th>17</th>\n",
              "      <td>Fitness</td>\n",
              "    </tr>\n",
              "    <tr>\n",
              "      <th>18</th>\n",
              "      <td>Faith and Spirituality</td>\n",
              "    </tr>\n",
              "    <tr>\n",
              "      <th>19</th>\n",
              "      <td>Military and War</td>\n",
              "    </tr>\n",
              "    <tr>\n",
              "      <th>20</th>\n",
              "      <td>Western</td>\n",
              "    </tr>\n",
              "    <tr>\n",
              "      <th>21</th>\n",
              "      <td>LGBTQ</td>\n",
              "    </tr>\n",
              "    <tr>\n",
              "      <th>22</th>\n",
              "      <td>Animation</td>\n",
              "    </tr>\n",
              "    <tr>\n",
              "      <th>23</th>\n",
              "      <td>Young Adult Audience</td>\n",
              "    </tr>\n",
              "    <tr>\n",
              "      <th>24</th>\n",
              "      <td>Arthouse</td>\n",
              "    </tr>\n",
              "    <tr>\n",
              "      <th>25</th>\n",
              "      <td>Anime</td>\n",
              "    </tr>\n",
              "    <tr>\n",
              "      <th>26</th>\n",
              "      <td>Romance</td>\n",
              "    </tr>\n",
              "    <tr>\n",
              "      <th>27</th>\n",
              "      <td>Talk Show and Variety</td>\n",
              "    </tr>\n",
              "    <tr>\n",
              "      <th>28</th>\n",
              "      <td>Historical</td>\n",
              "    </tr>\n",
              "    <tr>\n",
              "      <th>29</th>\n",
              "      <td>Unscripted</td>\n",
              "    </tr>\n",
              "    <tr>\n",
              "      <th>30</th>\n",
              "      <td>Documentaries</td>\n",
              "    </tr>\n",
              "    <tr>\n",
              "      <th>31</th>\n",
              "      <td>Children &amp; Family Movies</td>\n",
              "    </tr>\n",
              "    <tr>\n",
              "      <th>32</th>\n",
              "      <td>Dramas</td>\n",
              "    </tr>\n",
              "    <tr>\n",
              "      <th>33</th>\n",
              "      <td>Independent Movies</td>\n",
              "    </tr>\n",
              "    <tr>\n",
              "      <th>34</th>\n",
              "      <td>International Movies</td>\n",
              "    </tr>\n",
              "    <tr>\n",
              "      <th>35</th>\n",
              "      <td>Comedies</td>\n",
              "    </tr>\n",
              "    <tr>\n",
              "      <th>36</th>\n",
              "      <td>Thrillers</td>\n",
              "    </tr>\n",
              "    <tr>\n",
              "      <th>37</th>\n",
              "      <td>Romantic Movies</td>\n",
              "    </tr>\n",
              "    <tr>\n",
              "      <th>38</th>\n",
              "      <td>Music &amp; Musicals</td>\n",
              "    </tr>\n",
              "    <tr>\n",
              "      <th>39</th>\n",
              "      <td>Horror Movies</td>\n",
              "    </tr>\n",
              "    <tr>\n",
              "      <th>40</th>\n",
              "      <td>Sci-Fi &amp; Fantasy</td>\n",
              "    </tr>\n",
              "    <tr>\n",
              "      <th>41</th>\n",
              "      <td>Action &amp; Adventure</td>\n",
              "    </tr>\n",
              "    <tr>\n",
              "      <th>42</th>\n",
              "      <td>Classic Movies</td>\n",
              "    </tr>\n",
              "    <tr>\n",
              "      <th>43</th>\n",
              "      <td>Anime Features</td>\n",
              "    </tr>\n",
              "    <tr>\n",
              "      <th>44</th>\n",
              "      <td>Sports Movies</td>\n",
              "    </tr>\n",
              "    <tr>\n",
              "      <th>45</th>\n",
              "      <td>Cult Movies</td>\n",
              "    </tr>\n",
              "    <tr>\n",
              "      <th>46</th>\n",
              "      <td>Faith &amp; Spirituality</td>\n",
              "    </tr>\n",
              "    <tr>\n",
              "      <th>47</th>\n",
              "      <td>LGBTQ Movies</td>\n",
              "    </tr>\n",
              "    <tr>\n",
              "      <th>48</th>\n",
              "      <td>Stand-Up Comedy</td>\n",
              "    </tr>\n",
              "    <tr>\n",
              "      <th>49</th>\n",
              "      <td>Movies</td>\n",
              "    </tr>\n",
              "  </tbody>\n",
              "</table>\n",
              "</div>\n",
              "      <button class=\"colab-df-convert\" onclick=\"convertToInteractive('df-b562475e-9d66-4a73-9f80-31cec9c51a62')\"\n",
              "              title=\"Convert this dataframe to an interactive table.\"\n",
              "              style=\"display:none;\">\n",
              "        \n",
              "  <svg xmlns=\"http://www.w3.org/2000/svg\" height=\"24px\"viewBox=\"0 0 24 24\"\n",
              "       width=\"24px\">\n",
              "    <path d=\"M0 0h24v24H0V0z\" fill=\"none\"/>\n",
              "    <path d=\"M18.56 5.44l.94 2.06.94-2.06 2.06-.94-2.06-.94-.94-2.06-.94 2.06-2.06.94zm-11 1L8.5 8.5l.94-2.06 2.06-.94-2.06-.94L8.5 2.5l-.94 2.06-2.06.94zm10 10l.94 2.06.94-2.06 2.06-.94-2.06-.94-.94-2.06-.94 2.06-2.06.94z\"/><path d=\"M17.41 7.96l-1.37-1.37c-.4-.4-.92-.59-1.43-.59-.52 0-1.04.2-1.43.59L10.3 9.45l-7.72 7.72c-.78.78-.78 2.05 0 2.83L4 21.41c.39.39.9.59 1.41.59.51 0 1.02-.2 1.41-.59l7.78-7.78 2.81-2.81c.8-.78.8-2.07 0-2.86zM5.41 20L4 18.59l7.72-7.72 1.47 1.35L5.41 20z\"/>\n",
              "  </svg>\n",
              "      </button>\n",
              "      \n",
              "  <style>\n",
              "    .colab-df-container {\n",
              "      display:flex;\n",
              "      flex-wrap:wrap;\n",
              "      gap: 12px;\n",
              "    }\n",
              "\n",
              "    .colab-df-convert {\n",
              "      background-color: #E8F0FE;\n",
              "      border: none;\n",
              "      border-radius: 50%;\n",
              "      cursor: pointer;\n",
              "      display: none;\n",
              "      fill: #1967D2;\n",
              "      height: 32px;\n",
              "      padding: 0 0 0 0;\n",
              "      width: 32px;\n",
              "    }\n",
              "\n",
              "    .colab-df-convert:hover {\n",
              "      background-color: #E2EBFA;\n",
              "      box-shadow: 0px 1px 2px rgba(60, 64, 67, 0.3), 0px 1px 3px 1px rgba(60, 64, 67, 0.15);\n",
              "      fill: #174EA6;\n",
              "    }\n",
              "\n",
              "    [theme=dark] .colab-df-convert {\n",
              "      background-color: #3B4455;\n",
              "      fill: #D2E3FC;\n",
              "    }\n",
              "\n",
              "    [theme=dark] .colab-df-convert:hover {\n",
              "      background-color: #434B5C;\n",
              "      box-shadow: 0px 1px 3px 1px rgba(0, 0, 0, 0.15);\n",
              "      filter: drop-shadow(0px 1px 2px rgba(0, 0, 0, 0.3));\n",
              "      fill: #FFFFFF;\n",
              "    }\n",
              "  </style>\n",
              "\n",
              "      <script>\n",
              "        const buttonEl =\n",
              "          document.querySelector('#df-b562475e-9d66-4a73-9f80-31cec9c51a62 button.colab-df-convert');\n",
              "        buttonEl.style.display =\n",
              "          google.colab.kernel.accessAllowed ? 'block' : 'none';\n",
              "\n",
              "        async function convertToInteractive(key) {\n",
              "          const element = document.querySelector('#df-b562475e-9d66-4a73-9f80-31cec9c51a62');\n",
              "          const dataTable =\n",
              "            await google.colab.kernel.invokeFunction('convertToInteractive',\n",
              "                                                     [key], {});\n",
              "          if (!dataTable) return;\n",
              "\n",
              "          const docLinkHtml = 'Like what you see? Visit the ' +\n",
              "            '<a target=\"_blank\" href=https://colab.research.google.com/notebooks/data_table.ipynb>data table notebook</a>'\n",
              "            + ' to learn more about interactive tables.';\n",
              "          element.innerHTML = '';\n",
              "          dataTable['output_type'] = 'display_data';\n",
              "          await google.colab.output.renderOutput(dataTable, element);\n",
              "          const docLink = document.createElement('div');\n",
              "          docLink.innerHTML = docLinkHtml;\n",
              "          element.appendChild(docLink);\n",
              "        }\n",
              "      </script>\n",
              "    </div>\n",
              "  </div>\n",
              "  "
            ]
          },
          "metadata": {},
          "execution_count": 31
        }
      ]
    },
    {
      "cell_type": "markdown",
      "source": [
        "##A frequência de \"TV Show\" de todos os dados e comparativamente em relação as duas plataformas\n"
      ],
      "metadata": {
        "id": "aW192SGqXAGV"
      }
    },
    {
      "cell_type": "code",
      "source": [
        "# Calculando a frequência de 'TV Show' \n",
        "tv_shows_freq = dados['type'][dados['type'] == 'TV Show'].count()\n",
        "tv_shows_freq"
      ],
      "metadata": {
        "colab": {
          "base_uri": "https://localhost:8080/"
        },
        "id": "tMohoveAnT-p",
        "outputId": "9bf9ea67-e8bd-460b-ac62-63a1e06b347d"
      },
      "execution_count": 32,
      "outputs": [
        {
          "output_type": "execute_result",
          "data": {
            "text/plain": [
              "4530"
            ]
          },
          "metadata": {},
          "execution_count": 32
        }
      ]
    },
    {
      "cell_type": "code",
      "source": [
        "# Calculando a frequência de 'TV Show' na netflix\n",
        "tv_shows_freq_netflix = dados['type'][(dados['type'] == 'TV Show') & (dados['streaming'] == 'netflix')].count()\n",
        "tv_shows_freq_netflix"
      ],
      "metadata": {
        "colab": {
          "base_uri": "https://localhost:8080/"
        },
        "id": "rPfx4ulvi4VR",
        "outputId": "5e0f6749-02cc-4ef4-b95b-dd944b2344b8"
      },
      "execution_count": 33,
      "outputs": [
        {
          "output_type": "execute_result",
          "data": {
            "text/plain": [
              "2676"
            ]
          },
          "metadata": {},
          "execution_count": 33
        }
      ]
    },
    {
      "cell_type": "code",
      "source": [
        "# Calculando a frequência de 'TV Show' na amazon_prime\n",
        "tv_shows_freq_amazon = dados['type'][(dados['type'] == 'TV Show') & (dados['streaming'] == 'amazon_prime')].count()\n",
        "tv_shows_freq_amazon"
      ],
      "metadata": {
        "colab": {
          "base_uri": "https://localhost:8080/"
        },
        "id": "6Kdtko7wi4mT",
        "outputId": "0923c86f-582c-4041-9b11-7f108590ffeb"
      },
      "execution_count": 34,
      "outputs": [
        {
          "output_type": "execute_result",
          "data": {
            "text/plain": [
              "1854"
            ]
          },
          "metadata": {},
          "execution_count": 34
        }
      ]
    },
    {
      "cell_type": "code",
      "source": [
        "#Comparando resultado total e das duas plataformas\n",
        "\n",
        "print(\" Frequência total de TV_Show:\", str(tv_shows_freq) , \"\\n Frequência total de TV_Show na Netflix:\",str(tv_shows_freq_netflix), \"\\n Frequência total de TV_Show na Amazon Prime:\" ,str(tv_shows_freq_amazon))"
      ],
      "metadata": {
        "colab": {
          "base_uri": "https://localhost:8080/"
        },
        "id": "8Z-GkZNijnW2",
        "outputId": "637d8c00-54e0-4584-d835-11425b9b6592"
      },
      "execution_count": 35,
      "outputs": [
        {
          "output_type": "stream",
          "name": "stdout",
          "text": [
            " Frequência total de TV_Show: 4530 \n",
            " Frequência total de TV_Show na Netflix: 2676 \n",
            " Frequência total de TV_Show na Amazon Prime: 1854\n"
          ]
        }
      ]
    },
    {
      "cell_type": "markdown",
      "source": [
        "##A frequência de \"Movies\" de todos os dados e comparativamente em relação as duas plataformas"
      ],
      "metadata": {
        "id": "Xt2r3JPDXJ-e"
      }
    },
    {
      "cell_type": "code",
      "source": [
        "# Calculando a frequência de 'Movie' \n",
        "movie_freq = dados['type'][dados['type'] == 'Movie'].count()"
      ],
      "metadata": {
        "id": "OuaMfiNcuqfF"
      },
      "execution_count": 36,
      "outputs": []
    },
    {
      "cell_type": "code",
      "source": [
        "# Calculando a frequência de 'Movie' na netflix\n",
        "movie_netflix = dados['type'][(dados['type'] == 'Movie') & (dados['streaming'] == 'netflix')].count()"
      ],
      "metadata": {
        "id": "b80jdSni6ZhB"
      },
      "execution_count": 37,
      "outputs": []
    },
    {
      "cell_type": "code",
      "source": [
        "# Calculando a frequência de 'Movie' na amazon_prime\n",
        "movie_freq_amazon = dados['type'][(dados['type'] == 'Movie') & (dados['streaming'] == 'amazon_prime')].count()"
      ],
      "metadata": {
        "id": "G2WexSxX6Z61"
      },
      "execution_count": 38,
      "outputs": []
    },
    {
      "cell_type": "code",
      "source": [
        "#Comparando resultado total e das duas plataformas\n",
        "\n",
        "print(\" Frequência total de Movie:\", str(movie_freq) , \"\\n Frequência total de Movie na Netflix:\",str(movie_netflix), \"\\n Frequência total de Movie na Amazon Prime:\" ,str(movie_freq_amazon))"
      ],
      "metadata": {
        "colab": {
          "base_uri": "https://localhost:8080/"
        },
        "id": "S-fFi_BV6Wpw",
        "outputId": "0067baac-6161-422e-9cc9-bae7c7e4ffe3"
      },
      "execution_count": 39,
      "outputs": [
        {
          "output_type": "stream",
          "name": "stdout",
          "text": [
            " Frequência total de Movie: 13945 \n",
            " Frequência total de Movie na Netflix: 6131 \n",
            " Frequência total de Movie na Amazon Prime: 7814\n"
          ]
        }
      ]
    }
  ]
}