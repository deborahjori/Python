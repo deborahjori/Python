{
  "nbformat": 4,
  "nbformat_minor": 0,
  "metadata": {
    "colab": {
      "provenance": []
    },
    "kernelspec": {
      "name": "python3",
      "display_name": "Python 3"
    },
    "language_info": {
      "name": "python"
    }
  },
  "cells": [
    {
      "cell_type": "markdown",
      "source": [
        "# Importando Bibliotecas"
      ],
      "metadata": {
        "id": "JlgskSUksxzY"
      }
    },
    {
      "cell_type": "code",
      "execution_count": null,
      "metadata": {
        "id": "kNG6n7DqsqR2"
      },
      "outputs": [],
      "source": [
        "import pandas as pd\n",
        "from datetime import datetime"
      ]
    },
    {
      "cell_type": "markdown",
      "source": [
        "# Importando base de dados"
      ],
      "metadata": {
        "id": "blO8aBovs3gr"
      }
    },
    {
      "cell_type": "code",
      "source": [
        "dados1 = pd.read_excel('/content/Base_PeopleAnalyticsPerformance.xlsx', sheet_name = 0)"
      ],
      "metadata": {
        "id": "rlOWsnYcK3rv"
      },
      "execution_count": null,
      "outputs": []
    },
    {
      "cell_type": "code",
      "source": [
        "dados2 = pd.read_excel('/content/Base_PeopleAnalyticsPerformance.xlsx', sheet_name = 1)"
      ],
      "metadata": {
        "id": "Firo2mvaK31F"
      },
      "execution_count": null,
      "outputs": []
    },
    {
      "cell_type": "code",
      "source": [
        "dados3 = pd.read_excel('/content/Base_PeopleAnalyticsPerformance.xlsx', sheet_name = 2)"
      ],
      "metadata": {
        "id": "UghzZ82EK3-L"
      },
      "execution_count": null,
      "outputs": []
    },
    {
      "cell_type": "markdown",
      "source": [
        "Unindo os datasets 1 e 2, utilizando chave matricula"
      ],
      "metadata": {
        "id": "cyZW75u5tW1x"
      }
    },
    {
      "cell_type": "code",
      "source": [
        "dados_1_2 = pd.merge(dados1, dados2, how = 'inner', on = 'matricula')"
      ],
      "metadata": {
        "id": "TAJ2-jKMtT36"
      },
      "execution_count": null,
      "outputs": []
    },
    {
      "cell_type": "markdown",
      "source": [
        "Unindo datasets 1 e 2 com o 3, gerando um único datasets, considerando como chaves colunas ('Nível de Cargo', 'Cluster de Cargo', 'Área') e adicionando coluna Valor Próximo Nível"
      ],
      "metadata": {
        "id": "J_do8EfRticR"
      }
    },
    {
      "cell_type": "code",
      "source": [
        "##Calculando Valor Próximo Nível\n",
        "dados3['Valor Próximo Nível'] = float(0)\n",
        "\n",
        "for index, v in dados3.iterrows():\n",
        "  if index+1 != dados3['Valor'].count():\n",
        "    dados3.loc[dados3['Nível de Cargo'] == v['Nível de Cargo'] ,'Valor Próximo Nível'] = (dados3['Valor'][index+1] - dados3['Valor'][index])"
      ],
      "metadata": {
        "id": "nFtkpWoDNmR6"
      },
      "execution_count": null,
      "outputs": []
    },
    {
      "cell_type": "code",
      "source": [
        "dados = pd.merge(dados_1_2, dados3, how ='inner', on = ('Nível de Cargo', 'Cluster de Cargo', 'Área'))"
      ],
      "metadata": {
        "id": "EYAFzqNBtdcS"
      },
      "execution_count": null,
      "outputs": []
    },
    {
      "cell_type": "code",
      "source": [
        "##Declarando Variavéis\n",
        "dataatual = datetime.today()"
      ],
      "metadata": {
        "id": "NISqBLVHyrgT"
      },
      "execution_count": null,
      "outputs": []
    },
    {
      "cell_type": "markdown",
      "source": [
        "# Informações da Base"
      ],
      "metadata": {
        "id": "QHh_d25Ptui2"
      }
    },
    {
      "cell_type": "code",
      "source": [
        "dados.info()"
      ],
      "metadata": {
        "colab": {
          "base_uri": "https://localhost:8080/"
        },
        "id": "Cyx61HH7t4z7",
        "outputId": "203673cb-2b7a-4e7a-8cd6-de3e460e6feb"
      },
      "execution_count": null,
      "outputs": [
        {
          "output_type": "stream",
          "name": "stdout",
          "text": [
            "<class 'pandas.core.frame.DataFrame'>\n",
            "Int64Index: 53 entries, 0 to 52\n",
            "Data columns (total 17 columns):\n",
            " #   Column                Non-Null Count  Dtype         \n",
            "---  ------                --------------  -----         \n",
            " 0   matricula             53 non-null     int64         \n",
            " 1   Setor                 53 non-null     object        \n",
            " 2   Área                  53 non-null     object        \n",
            " 3   Cargo                 53 non-null     object        \n",
            " 4   Cluster de Cargo      53 non-null     object        \n",
            " 5   Nível de Cargo        53 non-null     object        \n",
            " 6   Idade                 53 non-null     int64         \n",
            " 7   Data de Admissão      53 non-null     datetime64[ns]\n",
            " 8   Gênero                53 non-null     object        \n",
            " 9   Data última promoção  6 non-null      datetime64[ns]\n",
            " 10  tarefas               53 non-null     int64         \n",
            " 11  qualidade             53 non-null     int64         \n",
            " 12  reincidencia          53 non-null     float64       \n",
            " 13  avaliacao_gestor      53 non-null     float64       \n",
            " 14  fit_cultural          53 non-null     int64         \n",
            " 15  Valor                 53 non-null     float64       \n",
            " 16  Valor Próximo Nível   53 non-null     float64       \n",
            "dtypes: datetime64[ns](2), float64(4), int64(5), object(6)\n",
            "memory usage: 7.5+ KB\n"
          ]
        }
      ]
    },
    {
      "cell_type": "code",
      "source": [
        "## Consulta dos tipos de dados, baseados nas variáveis(colunas)\n",
        "tipos_de_dados = pd.DataFrame(dados.dtypes, columns = ['Tipos de Dados'])\n",
        "tipos_de_dados.columns.name = 'Colunas'\n",
        "tipos_de_dados    "
      ],
      "metadata": {
        "colab": {
          "base_uri": "https://localhost:8080/",
          "height": 582
        },
        "id": "atCjBVmXtoWK",
        "outputId": "15120830-0210-4cab-f7aa-5a2c5fef4d9a"
      },
      "execution_count": null,
      "outputs": [
        {
          "output_type": "execute_result",
          "data": {
            "text/plain": [
              "Colunas               Tipos de Dados\n",
              "matricula                      int64\n",
              "Setor                         object\n",
              "Área                          object\n",
              "Cargo                         object\n",
              "Cluster de Cargo              object\n",
              "Nível de Cargo                object\n",
              "Idade                          int64\n",
              "Data de Admissão      datetime64[ns]\n",
              "Gênero                        object\n",
              "Data última promoção  datetime64[ns]\n",
              "tarefas                        int64\n",
              "qualidade                      int64\n",
              "reincidencia                 float64\n",
              "avaliacao_gestor             float64\n",
              "fit_cultural                   int64\n",
              "Valor                        float64\n",
              "Valor Próximo Nível          float64"
            ],
            "text/html": [
              "\n",
              "  <div id=\"df-ca0835a1-ee9e-4539-98cf-e2e95e9509b5\">\n",
              "    <div class=\"colab-df-container\">\n",
              "      <div>\n",
              "<style scoped>\n",
              "    .dataframe tbody tr th:only-of-type {\n",
              "        vertical-align: middle;\n",
              "    }\n",
              "\n",
              "    .dataframe tbody tr th {\n",
              "        vertical-align: top;\n",
              "    }\n",
              "\n",
              "    .dataframe thead th {\n",
              "        text-align: right;\n",
              "    }\n",
              "</style>\n",
              "<table border=\"1\" class=\"dataframe\">\n",
              "  <thead>\n",
              "    <tr style=\"text-align: right;\">\n",
              "      <th>Colunas</th>\n",
              "      <th>Tipos de Dados</th>\n",
              "    </tr>\n",
              "  </thead>\n",
              "  <tbody>\n",
              "    <tr>\n",
              "      <th>matricula</th>\n",
              "      <td>int64</td>\n",
              "    </tr>\n",
              "    <tr>\n",
              "      <th>Setor</th>\n",
              "      <td>object</td>\n",
              "    </tr>\n",
              "    <tr>\n",
              "      <th>Área</th>\n",
              "      <td>object</td>\n",
              "    </tr>\n",
              "    <tr>\n",
              "      <th>Cargo</th>\n",
              "      <td>object</td>\n",
              "    </tr>\n",
              "    <tr>\n",
              "      <th>Cluster de Cargo</th>\n",
              "      <td>object</td>\n",
              "    </tr>\n",
              "    <tr>\n",
              "      <th>Nível de Cargo</th>\n",
              "      <td>object</td>\n",
              "    </tr>\n",
              "    <tr>\n",
              "      <th>Idade</th>\n",
              "      <td>int64</td>\n",
              "    </tr>\n",
              "    <tr>\n",
              "      <th>Data de Admissão</th>\n",
              "      <td>datetime64[ns]</td>\n",
              "    </tr>\n",
              "    <tr>\n",
              "      <th>Gênero</th>\n",
              "      <td>object</td>\n",
              "    </tr>\n",
              "    <tr>\n",
              "      <th>Data última promoção</th>\n",
              "      <td>datetime64[ns]</td>\n",
              "    </tr>\n",
              "    <tr>\n",
              "      <th>tarefas</th>\n",
              "      <td>int64</td>\n",
              "    </tr>\n",
              "    <tr>\n",
              "      <th>qualidade</th>\n",
              "      <td>int64</td>\n",
              "    </tr>\n",
              "    <tr>\n",
              "      <th>reincidencia</th>\n",
              "      <td>float64</td>\n",
              "    </tr>\n",
              "    <tr>\n",
              "      <th>avaliacao_gestor</th>\n",
              "      <td>float64</td>\n",
              "    </tr>\n",
              "    <tr>\n",
              "      <th>fit_cultural</th>\n",
              "      <td>int64</td>\n",
              "    </tr>\n",
              "    <tr>\n",
              "      <th>Valor</th>\n",
              "      <td>float64</td>\n",
              "    </tr>\n",
              "    <tr>\n",
              "      <th>Valor Próximo Nível</th>\n",
              "      <td>float64</td>\n",
              "    </tr>\n",
              "  </tbody>\n",
              "</table>\n",
              "</div>\n",
              "      <button class=\"colab-df-convert\" onclick=\"convertToInteractive('df-ca0835a1-ee9e-4539-98cf-e2e95e9509b5')\"\n",
              "              title=\"Convert this dataframe to an interactive table.\"\n",
              "              style=\"display:none;\">\n",
              "        \n",
              "  <svg xmlns=\"http://www.w3.org/2000/svg\" height=\"24px\"viewBox=\"0 0 24 24\"\n",
              "       width=\"24px\">\n",
              "    <path d=\"M0 0h24v24H0V0z\" fill=\"none\"/>\n",
              "    <path d=\"M18.56 5.44l.94 2.06.94-2.06 2.06-.94-2.06-.94-.94-2.06-.94 2.06-2.06.94zm-11 1L8.5 8.5l.94-2.06 2.06-.94-2.06-.94L8.5 2.5l-.94 2.06-2.06.94zm10 10l.94 2.06.94-2.06 2.06-.94-2.06-.94-.94-2.06-.94 2.06-2.06.94z\"/><path d=\"M17.41 7.96l-1.37-1.37c-.4-.4-.92-.59-1.43-.59-.52 0-1.04.2-1.43.59L10.3 9.45l-7.72 7.72c-.78.78-.78 2.05 0 2.83L4 21.41c.39.39.9.59 1.41.59.51 0 1.02-.2 1.41-.59l7.78-7.78 2.81-2.81c.8-.78.8-2.07 0-2.86zM5.41 20L4 18.59l7.72-7.72 1.47 1.35L5.41 20z\"/>\n",
              "  </svg>\n",
              "      </button>\n",
              "      \n",
              "  <style>\n",
              "    .colab-df-container {\n",
              "      display:flex;\n",
              "      flex-wrap:wrap;\n",
              "      gap: 12px;\n",
              "    }\n",
              "\n",
              "    .colab-df-convert {\n",
              "      background-color: #E8F0FE;\n",
              "      border: none;\n",
              "      border-radius: 50%;\n",
              "      cursor: pointer;\n",
              "      display: none;\n",
              "      fill: #1967D2;\n",
              "      height: 32px;\n",
              "      padding: 0 0 0 0;\n",
              "      width: 32px;\n",
              "    }\n",
              "\n",
              "    .colab-df-convert:hover {\n",
              "      background-color: #E2EBFA;\n",
              "      box-shadow: 0px 1px 2px rgba(60, 64, 67, 0.3), 0px 1px 3px 1px rgba(60, 64, 67, 0.15);\n",
              "      fill: #174EA6;\n",
              "    }\n",
              "\n",
              "    [theme=dark] .colab-df-convert {\n",
              "      background-color: #3B4455;\n",
              "      fill: #D2E3FC;\n",
              "    }\n",
              "\n",
              "    [theme=dark] .colab-df-convert:hover {\n",
              "      background-color: #434B5C;\n",
              "      box-shadow: 0px 1px 3px 1px rgba(0, 0, 0, 0.15);\n",
              "      filter: drop-shadow(0px 1px 2px rgba(0, 0, 0, 0.3));\n",
              "      fill: #FFFFFF;\n",
              "    }\n",
              "  </style>\n",
              "\n",
              "      <script>\n",
              "        const buttonEl =\n",
              "          document.querySelector('#df-ca0835a1-ee9e-4539-98cf-e2e95e9509b5 button.colab-df-convert');\n",
              "        buttonEl.style.display =\n",
              "          google.colab.kernel.accessAllowed ? 'block' : 'none';\n",
              "\n",
              "        async function convertToInteractive(key) {\n",
              "          const element = document.querySelector('#df-ca0835a1-ee9e-4539-98cf-e2e95e9509b5');\n",
              "          const dataTable =\n",
              "            await google.colab.kernel.invokeFunction('convertToInteractive',\n",
              "                                                     [key], {});\n",
              "          if (!dataTable) return;\n",
              "\n",
              "          const docLinkHtml = 'Like what you see? Visit the ' +\n",
              "            '<a target=\"_blank\" href=https://colab.research.google.com/notebooks/data_table.ipynb>data table notebook</a>'\n",
              "            + ' to learn more about interactive tables.';\n",
              "          element.innerHTML = '';\n",
              "          dataTable['output_type'] = 'display_data';\n",
              "          await google.colab.output.renderOutput(dataTable, element);\n",
              "          const docLink = document.createElement('div');\n",
              "          docLink.innerHTML = docLinkHtml;\n",
              "          element.appendChild(docLink);\n",
              "        }\n",
              "      </script>\n",
              "    </div>\n",
              "  </div>\n",
              "  "
            ]
          },
          "metadata": {},
          "execution_count": 228
        }
      ]
    },
    {
      "cell_type": "code",
      "source": [
        "print('A base de dados apresenta {} linhas e {} colunas'.format(dados.shape[0] , dados.shape[1]))\n"
      ],
      "metadata": {
        "colab": {
          "base_uri": "https://localhost:8080/"
        },
        "id": "fjNdvVept07S",
        "outputId": "223ce92a-c9d0-40b2-d2fb-147580415da8"
      },
      "execution_count": null,
      "outputs": [
        {
          "output_type": "stream",
          "name": "stdout",
          "text": [
            "A base de dados apresenta 53 linhas e 17 colunas\n"
          ]
        }
      ]
    },
    {
      "cell_type": "markdown",
      "source": [
        "# Analisando os dados"
      ],
      "metadata": {
        "id": "lmSfusf2uB7b"
      }
    },
    {
      "cell_type": "code",
      "source": [
        "## Verificando duplicidade em matricula\n",
        "matriculas_count = dados.groupby('matricula')\n",
        "matriculas_count.filter(lambda x: x['matricula'].value_counts() > 1)"
      ],
      "metadata": {
        "colab": {
          "base_uri": "https://localhost:8080/",
          "height": 128
        },
        "id": "jDPMKUz3t-1q",
        "outputId": "573392a6-8d64-430e-fbe8-72f28c490a8c"
      },
      "execution_count": null,
      "outputs": [
        {
          "output_type": "execute_result",
          "data": {
            "text/plain": [
              "Empty DataFrame\n",
              "Columns: [matricula, Setor, Área, Cargo, Cluster de Cargo, Nível de Cargo, Idade, Data de Admissão, Gênero, Data última promoção, tarefas, qualidade, reincidencia, avaliacao_gestor, fit_cultural, Valor, Valor Próximo Nível]\n",
              "Index: []"
            ],
            "text/html": [
              "\n",
              "  <div id=\"df-0726de8d-f81d-4e29-9522-5933a1111609\">\n",
              "    <div class=\"colab-df-container\">\n",
              "      <div>\n",
              "<style scoped>\n",
              "    .dataframe tbody tr th:only-of-type {\n",
              "        vertical-align: middle;\n",
              "    }\n",
              "\n",
              "    .dataframe tbody tr th {\n",
              "        vertical-align: top;\n",
              "    }\n",
              "\n",
              "    .dataframe thead th {\n",
              "        text-align: right;\n",
              "    }\n",
              "</style>\n",
              "<table border=\"1\" class=\"dataframe\">\n",
              "  <thead>\n",
              "    <tr style=\"text-align: right;\">\n",
              "      <th></th>\n",
              "      <th>matricula</th>\n",
              "      <th>Setor</th>\n",
              "      <th>Área</th>\n",
              "      <th>Cargo</th>\n",
              "      <th>Cluster de Cargo</th>\n",
              "      <th>Nível de Cargo</th>\n",
              "      <th>Idade</th>\n",
              "      <th>Data de Admissão</th>\n",
              "      <th>Gênero</th>\n",
              "      <th>Data última promoção</th>\n",
              "      <th>tarefas</th>\n",
              "      <th>qualidade</th>\n",
              "      <th>reincidencia</th>\n",
              "      <th>avaliacao_gestor</th>\n",
              "      <th>fit_cultural</th>\n",
              "      <th>Valor</th>\n",
              "      <th>Valor Próximo Nível</th>\n",
              "    </tr>\n",
              "  </thead>\n",
              "  <tbody>\n",
              "  </tbody>\n",
              "</table>\n",
              "</div>\n",
              "      <button class=\"colab-df-convert\" onclick=\"convertToInteractive('df-0726de8d-f81d-4e29-9522-5933a1111609')\"\n",
              "              title=\"Convert this dataframe to an interactive table.\"\n",
              "              style=\"display:none;\">\n",
              "        \n",
              "  <svg xmlns=\"http://www.w3.org/2000/svg\" height=\"24px\"viewBox=\"0 0 24 24\"\n",
              "       width=\"24px\">\n",
              "    <path d=\"M0 0h24v24H0V0z\" fill=\"none\"/>\n",
              "    <path d=\"M18.56 5.44l.94 2.06.94-2.06 2.06-.94-2.06-.94-.94-2.06-.94 2.06-2.06.94zm-11 1L8.5 8.5l.94-2.06 2.06-.94-2.06-.94L8.5 2.5l-.94 2.06-2.06.94zm10 10l.94 2.06.94-2.06 2.06-.94-2.06-.94-.94-2.06-.94 2.06-2.06.94z\"/><path d=\"M17.41 7.96l-1.37-1.37c-.4-.4-.92-.59-1.43-.59-.52 0-1.04.2-1.43.59L10.3 9.45l-7.72 7.72c-.78.78-.78 2.05 0 2.83L4 21.41c.39.39.9.59 1.41.59.51 0 1.02-.2 1.41-.59l7.78-7.78 2.81-2.81c.8-.78.8-2.07 0-2.86zM5.41 20L4 18.59l7.72-7.72 1.47 1.35L5.41 20z\"/>\n",
              "  </svg>\n",
              "      </button>\n",
              "      \n",
              "  <style>\n",
              "    .colab-df-container {\n",
              "      display:flex;\n",
              "      flex-wrap:wrap;\n",
              "      gap: 12px;\n",
              "    }\n",
              "\n",
              "    .colab-df-convert {\n",
              "      background-color: #E8F0FE;\n",
              "      border: none;\n",
              "      border-radius: 50%;\n",
              "      cursor: pointer;\n",
              "      display: none;\n",
              "      fill: #1967D2;\n",
              "      height: 32px;\n",
              "      padding: 0 0 0 0;\n",
              "      width: 32px;\n",
              "    }\n",
              "\n",
              "    .colab-df-convert:hover {\n",
              "      background-color: #E2EBFA;\n",
              "      box-shadow: 0px 1px 2px rgba(60, 64, 67, 0.3), 0px 1px 3px 1px rgba(60, 64, 67, 0.15);\n",
              "      fill: #174EA6;\n",
              "    }\n",
              "\n",
              "    [theme=dark] .colab-df-convert {\n",
              "      background-color: #3B4455;\n",
              "      fill: #D2E3FC;\n",
              "    }\n",
              "\n",
              "    [theme=dark] .colab-df-convert:hover {\n",
              "      background-color: #434B5C;\n",
              "      box-shadow: 0px 1px 3px 1px rgba(0, 0, 0, 0.15);\n",
              "      filter: drop-shadow(0px 1px 2px rgba(0, 0, 0, 0.3));\n",
              "      fill: #FFFFFF;\n",
              "    }\n",
              "  </style>\n",
              "\n",
              "      <script>\n",
              "        const buttonEl =\n",
              "          document.querySelector('#df-0726de8d-f81d-4e29-9522-5933a1111609 button.colab-df-convert');\n",
              "        buttonEl.style.display =\n",
              "          google.colab.kernel.accessAllowed ? 'block' : 'none';\n",
              "\n",
              "        async function convertToInteractive(key) {\n",
              "          const element = document.querySelector('#df-0726de8d-f81d-4e29-9522-5933a1111609');\n",
              "          const dataTable =\n",
              "            await google.colab.kernel.invokeFunction('convertToInteractive',\n",
              "                                                     [key], {});\n",
              "          if (!dataTable) return;\n",
              "\n",
              "          const docLinkHtml = 'Like what you see? Visit the ' +\n",
              "            '<a target=\"_blank\" href=https://colab.research.google.com/notebooks/data_table.ipynb>data table notebook</a>'\n",
              "            + ' to learn more about interactive tables.';\n",
              "          element.innerHTML = '';\n",
              "          dataTable['output_type'] = 'display_data';\n",
              "          await google.colab.output.renderOutput(dataTable, element);\n",
              "          const docLink = document.createElement('div');\n",
              "          docLink.innerHTML = docLinkHtml;\n",
              "          element.appendChild(docLink);\n",
              "        }\n",
              "      </script>\n",
              "    </div>\n",
              "  </div>\n",
              "  "
            ]
          },
          "metadata": {},
          "execution_count": 230
        }
      ]
    },
    {
      "cell_type": "code",
      "source": [
        "## Validando se dados de cargo estão normalizados\n",
        "dados['Cargo'].drop_duplicates()"
      ],
      "metadata": {
        "colab": {
          "base_uri": "https://localhost:8080/"
        },
        "id": "iIrbUVf0uJRq",
        "outputId": "b0439c32-4b42-49ae-8592-34164f0b84d3"
      },
      "execution_count": null,
      "outputs": [
        {
          "output_type": "execute_result",
          "data": {
            "text/plain": [
              "0      Assistente de Suporte II\n",
              "5      Assistente de suporte II\n",
              "23    Assistente de Suporte III\n",
              "27      Assistente de suporte I\n",
              "28      Assistente de Suporte I\n",
              "Name: Cargo, dtype: object"
            ]
          },
          "metadata": {},
          "execution_count": 231
        }
      ]
    },
    {
      "cell_type": "code",
      "source": [
        "## Validando se dados Cluster de cargo estão normalizados\n",
        "dados['Cluster de Cargo'].drop_duplicates()"
      ],
      "metadata": {
        "colab": {
          "base_uri": "https://localhost:8080/"
        },
        "id": "PdN1fCbXuZgS",
        "outputId": "b366996f-0915-47d3-ab87-97e82bf9ab98"
      },
      "execution_count": null,
      "outputs": [
        {
          "output_type": "execute_result",
          "data": {
            "text/plain": [
              "0    Assistente\n",
              "Name: Cluster de Cargo, dtype: object"
            ]
          },
          "metadata": {},
          "execution_count": 232
        }
      ]
    },
    {
      "cell_type": "code",
      "source": [
        "## Validando se níveis de cargos estão normalizados\n",
        "dados['Nível de Cargo'].drop_duplicates()"
      ],
      "metadata": {
        "colab": {
          "base_uri": "https://localhost:8080/"
        },
        "id": "HraDzxmTusZr",
        "outputId": "140c1e40-39e7-44cf-c13b-5c8e33b9b545"
      },
      "execution_count": null,
      "outputs": [
        {
          "output_type": "execute_result",
          "data": {
            "text/plain": [
              "0      II\n",
              "23    III\n",
              "27      I\n",
              "Name: Nível de Cargo, dtype: object"
            ]
          },
          "metadata": {},
          "execution_count": 233
        }
      ]
    },
    {
      "cell_type": "code",
      "source": [
        "## Validando se gêneros estão normalizados\n",
        "dados['Gênero'].drop_duplicates()"
      ],
      "metadata": {
        "colab": {
          "base_uri": "https://localhost:8080/"
        },
        "id": "vxObsRhyu5ta",
        "outputId": "12ac914a-cc5e-440e-cde5-0117d8218f56"
      },
      "execution_count": null,
      "outputs": [
        {
          "output_type": "execute_result",
          "data": {
            "text/plain": [
              "0    M\n",
              "5    F\n",
              "Name: Gênero, dtype: object"
            ]
          },
          "metadata": {},
          "execution_count": 234
        }
      ]
    },
    {
      "cell_type": "code",
      "source": [
        "## Verificando mínima, máxima e média das idades e validando possíveis outliers\n",
        "print('Idade de %s até %s anos' % (dados['Idade'].min(), dados['Idade'].max()), 'com média de %s anos' % (dados['Idade'].mean().round()))"
      ],
      "metadata": {
        "colab": {
          "base_uri": "https://localhost:8080/"
        },
        "id": "mNaSX3oRvqbp",
        "outputId": "7085d9e3-00af-4e5c-ec9a-4923cc552f51"
      },
      "execution_count": null,
      "outputs": [
        {
          "output_type": "stream",
          "name": "stdout",
          "text": [
            "Idade de 19 até 48 anos com média de 25.0 anos\n"
          ]
        }
      ]
    },
    {
      "cell_type": "code",
      "source": [
        "## Validando possíveis outliers em dados Datas em Admissão \n",
        "print('Datas de Admissão de %s até %s ' % (dados['Data de Admissão'].min(), dados['Data de Admissão'].max()))"
      ],
      "metadata": {
        "colab": {
          "base_uri": "https://localhost:8080/"
        },
        "id": "xIJAg2uUxor5",
        "outputId": "83dccb56-6280-41b4-a7fe-18107ce8bbfa"
      },
      "execution_count": null,
      "outputs": [
        {
          "output_type": "stream",
          "name": "stdout",
          "text": [
            "Datas de Admissão de 2018-07-27 00:00:00 até 2021-04-19 18:00:09 \n"
          ]
        }
      ]
    },
    {
      "cell_type": "code",
      "source": [
        "## Validando se dados Data última promoção estão normalizados e dados faltantes\n",
        "print('Datas da última promoção de %s até %s ' % (dados['Data última promoção'].min(), dados['Data última promoção'].max()))"
      ],
      "metadata": {
        "colab": {
          "base_uri": "https://localhost:8080/"
        },
        "id": "tDt7PAz-yKWS",
        "outputId": "c952c26a-2259-42bd-d4f6-4aef92ecd94a"
      },
      "execution_count": null,
      "outputs": [
        {
          "output_type": "stream",
          "name": "stdout",
          "text": [
            "Datas da última promoção de 2019-07-03 00:00:00 até 2021-04-01 00:00:00 \n"
          ]
        }
      ]
    },
    {
      "cell_type": "code",
      "source": [
        "## Dados estatísticos tarefas concluídas\n",
        "dados['tarefas'].describe()"
      ],
      "metadata": {
        "colab": {
          "base_uri": "https://localhost:8080/"
        },
        "id": "pqX9E_w4jBUw",
        "outputId": "b10a0a17-87a1-419a-b7fb-9ad1db4501d7"
      },
      "execution_count": null,
      "outputs": [
        {
          "output_type": "execute_result",
          "data": {
            "text/plain": [
              "count     53.000000\n",
              "mean     420.509434\n",
              "std      133.850753\n",
              "min      215.000000\n",
              "25%      302.000000\n",
              "50%      415.000000\n",
              "75%      542.000000\n",
              "max      672.000000\n",
              "Name: tarefas, dtype: float64"
            ]
          },
          "metadata": {},
          "execution_count": 238
        }
      ]
    },
    {
      "cell_type": "code",
      "source": [
        "## Dados estatísticos das notas de qualidade\n",
        "dados['qualidade'].describe()"
      ],
      "metadata": {
        "colab": {
          "base_uri": "https://localhost:8080/"
        },
        "id": "b2sYy5k-h4P6",
        "outputId": "65cedf33-10e9-4d28-e84e-36524ffc8ccf"
      },
      "execution_count": null,
      "outputs": [
        {
          "output_type": "execute_result",
          "data": {
            "text/plain": [
              "count    53.000000\n",
              "mean      7.113208\n",
              "std       1.938084\n",
              "min       4.000000\n",
              "25%       6.000000\n",
              "50%       7.000000\n",
              "75%       9.000000\n",
              "max      10.000000\n",
              "Name: qualidade, dtype: float64"
            ]
          },
          "metadata": {},
          "execution_count": 239
        }
      ]
    },
    {
      "cell_type": "code",
      "source": [
        "## Dados estatísticos reincidencia\n",
        "dados['reincidencia'].describe()"
      ],
      "metadata": {
        "colab": {
          "base_uri": "https://localhost:8080/"
        },
        "id": "25gXCp6fiAYm",
        "outputId": "815011b5-8167-49d0-c98b-9cd70968aca0"
      },
      "execution_count": null,
      "outputs": [
        {
          "output_type": "execute_result",
          "data": {
            "text/plain": [
              "count    53.000000\n",
              "mean      0.152264\n",
              "std       0.083887\n",
              "min       0.010000\n",
              "25%       0.090000\n",
              "50%       0.130000\n",
              "75%       0.230000\n",
              "max       0.300000\n",
              "Name: reincidencia, dtype: float64"
            ]
          },
          "metadata": {},
          "execution_count": 240
        }
      ]
    },
    {
      "cell_type": "code",
      "source": [
        "## Dados estatísticos das notas de avaliação de desempenho pelo gestor\n",
        "dados['avaliacao_gestor'].describe()"
      ],
      "metadata": {
        "colab": {
          "base_uri": "https://localhost:8080/"
        },
        "id": "O6qTjLFNiD0c",
        "outputId": "c31809e0-934a-4b5b-fd48-928f69078eaa"
      },
      "execution_count": null,
      "outputs": [
        {
          "output_type": "execute_result",
          "data": {
            "text/plain": [
              "count    53.000000\n",
              "mean      5.683019\n",
              "std       1.244640\n",
              "min       3.500000\n",
              "25%       5.000000\n",
              "50%       5.400000\n",
              "75%       6.400000\n",
              "max       9.600000\n",
              "Name: avaliacao_gestor, dtype: float64"
            ]
          },
          "metadata": {},
          "execution_count": 241
        }
      ]
    },
    {
      "cell_type": "code",
      "source": [
        "## Dados estatísticos das notas de alinhamento cultural pelo gestor\n",
        "dados['fit_cultural'].describe()"
      ],
      "metadata": {
        "colab": {
          "base_uri": "https://localhost:8080/"
        },
        "id": "1L3HycW1iM6-",
        "outputId": "36c9178a-5682-425f-9934-0dfe396a123b"
      },
      "execution_count": null,
      "outputs": [
        {
          "output_type": "execute_result",
          "data": {
            "text/plain": [
              "count    53.000000\n",
              "mean      7.471698\n",
              "std       1.067055\n",
              "min       6.000000\n",
              "25%       6.000000\n",
              "50%       8.000000\n",
              "75%       8.000000\n",
              "max       9.000000\n",
              "Name: fit_cultural, dtype: float64"
            ]
          },
          "metadata": {},
          "execution_count": 242
        }
      ]
    },
    {
      "cell_type": "markdown",
      "source": [
        "# Enriquecendo os dados"
      ],
      "metadata": {
        "id": "WGjgQU2n0ptX"
      }
    },
    {
      "cell_type": "code",
      "source": [
        "## Ordenando dataset por matrículas\n",
        "dados = dados.sort_values(by='matricula')"
      ],
      "metadata": {
        "id": "iElhHlbglpGN"
      },
      "execution_count": null,
      "outputs": []
    },
    {
      "cell_type": "code",
      "source": [
        "## Considerando data de admissão em dados nulos de Data última promoção, para cálculo de intervalo de promoção\n",
        "dados.loc[dados[\"Data última promoção\"].isna(),\"Data última promoção\"] = dados[dados[\"Data última promoção\"].isna()][\"Data de Admissão\"]"
      ],
      "metadata": {
        "id": "Wyun70ZY0nXQ"
      },
      "execution_count": null,
      "outputs": []
    },
    {
      "cell_type": "code",
      "source": [
        "## Criando coluna de intervalo de promoção em dias, desde a última. Variável dataatual, considera data do processamento.\n",
        "dados['Intervalo da Promoção'] = dataatual - dados['Data última promoção']"
      ],
      "metadata": {
        "id": "YNkZakXs0_zh"
      },
      "execution_count": null,
      "outputs": []
    },
    {
      "cell_type": "code",
      "source": [
        "## Formatando dados\n",
        "dados['Intervalo da Promoção'] = dados['Intervalo da Promoção'].astype(\"timedelta64[D]\")\n",
        "dados['Data de Admissão'] = dados['Data de Admissão'].dt.strftime('%d/%m/%Y')\n",
        "dados['Data última promoção'] = dados['Data última promoção'].dt.strftime('%d/%m/%Y')\n",
        "dados['Valor'] = [str(format(valor, '.2f')).replace(\".\", \",\") for valor in dados['Valor']]\n",
        "dados['Valor Próximo Nível'] = [str(format(valor, '.2f')).replace(\".\", \",\") for valor in dados['Valor Próximo Nível']]"
      ],
      "metadata": {
        "id": "-AKxIPKI1Jww"
      },
      "execution_count": null,
      "outputs": []
    },
    {
      "cell_type": "code",
      "source": [
        "## Padronizando e renomeando nome das colunas\n",
        "dados.rename(columns={'matricula'             : 'Matrícula', \n",
        "                      'tarefas'               : 'Tarefas Concluídas',\n",
        "                      'qualidade'             : 'Qualidade',\n",
        "                      'reincidencia'          : 'Reincidência',\n",
        "                      'avaliacao_gestor'      : 'Avaliação de Desempenho',\n",
        "                      'fit_cultural'          : 'Alinhamento Cultural', \n",
        "                      'Intervalo da Promoção' : 'Intervalo Desde Última Promoção em Dias',\n",
        "                      'Valor'                 : 'Salário'\n",
        "                       }, inplace = True)"
      ],
      "metadata": {
        "id": "xXBytSzTbf9Z"
      },
      "execution_count": null,
      "outputs": []
    },
    {
      "cell_type": "code",
      "source": [
        "## Normalizando primeira letra maiúscula\n",
        "for t in dados['Cargo']:\n",
        "  dados['Cargo'].replace(t, t.title(), inplace = True)  \n",
        "\n",
        "## Aplicando exceções da normalização (primeira letra maiúscula)  \n",
        "for t in dados['Cargo']:\n",
        "  text = t.replace('De ', 'de ') \n",
        "  text = text.replace('Ii', 'II')\n",
        "  text = text.replace('Iii', 'III')\n",
        "\n",
        "  dados['Cargo'].replace(t, text, inplace = True)"
      ],
      "metadata": {
        "id": "OJB0EKXk1j74"
      },
      "execution_count": null,
      "outputs": []
    },
    {
      "cell_type": "code",
      "source": [
        "## Adicionando informações ao dataset a serem utilizadas para critérios de promoção\n",
        "dados.insert(13, \"Média Reincidência\", (dados.Reincidência.mean()))\n",
        "dados.insert(14, \"Reincidência Individual x Reincidência Média Geral\", str)\n",
        "dados.insert(11, \"Média Tarefas Entregues\", int(dados['Tarefas Concluídas'].mean().round()))\n",
        "dados.insert(12, \"Tarefas Entregues Individual x Média Tarefas Entregues Geral\", str)\n",
        "dados.insert(13, \"Média Qualidade\", int(dados.Qualidade.mean().round()))\n",
        "dados.insert(14, \"Nota Qualidade Individual x Nota Média Qualidade Geral\", str)\n",
        "dados.insert(19, \"Aderência Desempenho\", str)\n",
        "dados.insert(21, \"Aderência cultural\", str)"
      ],
      "metadata": {
        "id": "IcdJpYCPbxAR"
      },
      "execution_count": null,
      "outputs": []
    },
    {
      "cell_type": "code",
      "source": [
        "def aderencia(coluna, coluna2, tipo):\n",
        "    \n",
        "    if tipo == 1:\n",
        "\n",
        "      aux = \"das Expectativas\"\n",
        "      if coluna == 0:\n",
        "        return \"Totalmente Abaixo \" + aux\n",
        "      elif coluna < 5:\n",
        "        return \"Abaixo \" + aux\n",
        "      elif coluna == 5:\n",
        "        return \"Dentro \" + aux\n",
        "      elif coluna > 5 and coluna < 10:\n",
        "        return \"Acima \" + aux\n",
        "      elif coluna == 10:\n",
        "        return \"Muito Acima \" + aux\n",
        "    \n",
        "    if tipo == 2:\n",
        "\n",
        "      aux = \"da Média\"\n",
        "      if coluna < coluna2:\n",
        "        return \"Abaixo \" + aux\n",
        "      elif coluna == coluna2:\n",
        "        return \"Dentro \" + aux\n",
        "      elif coluna > coluna2:\n",
        "        return \"Acima \" + aux\n",
        "\n",
        "for index, r in dados.iterrows():\n",
        "\n",
        "    dados.loc[dados['Matrícula'] == r['Matrícula'] ,'Aderência Desempenho'] = aderencia(r['Avaliação de Desempenho'],'',1)\n",
        "    dados.loc[dados['Matrícula'] == r['Matrícula'] ,'Aderência cultural'] = aderencia(r['Alinhamento Cultural'],'',1)\n",
        "    dados.loc[dados['Matrícula'] == r['Matrícula'] ,'Nota Qualidade Individual x Nota Média Qualidade Geral'] = aderencia(r['Qualidade'],r['Média Qualidade'],2)\n",
        "    dados.loc[dados['Matrícula'] == r['Matrícula'] ,'Reincidência Individual x Reincidência Média Geral'] = aderencia(r['Reincidência'],r['Média Reincidência'],2)\n",
        "    dados.loc[dados['Matrícula'] == r['Matrícula'] ,'Tarefas Entregues Individual x Média Tarefas Entregues Geral'] = aderencia(r['Tarefas Concluídas'],r['Média Tarefas Entregues'],2)"
      ],
      "metadata": {
        "id": "cdGOPB9lqtoN"
      },
      "execution_count": null,
      "outputs": []
    },
    {
      "cell_type": "code",
      "source": [
        "## Opção de Exportação para CSV\n",
        "dados.to_csv('/content/Base_PeopleAnalyticsPerformance_Result.csv', sep = ';', index = False)"
      ],
      "metadata": {
        "id": "do8x-LsJmJpq"
      },
      "execution_count": null,
      "outputs": []
    },
    {
      "cell_type": "code",
      "source": [
        "## Opção Exportação Direta para o Google Sheets\n",
        "from google.colab import auth\n",
        "auth.authenticate_user()\n",
        "\n",
        "import gspread\n",
        "from google.auth import default\n",
        "creds, _ = default()\n",
        "\n",
        "gc = gspread.authorize(creds)\n",
        "\n",
        "spreadsheet_key = '<adicione aqui spreadsheet_key>'\n",
        "workbook = gc.open_by_key(spreadsheet_key)\n",
        "\n",
        "workbook.values_update(\n",
        "  'base_dados!A9',\n",
        "  params={\n",
        "      'valueInputOption': 'USER_ENTERED'\n",
        "  },\n",
        "  body={\n",
        "      'values': [dados.columns.values.tolist()] + dados.values.tolist()\n",
        "  }\n",
        ")"
      ],
      "metadata": {
        "id": "3Cn6lLBzMzHp"
      },
      "execution_count": null,
      "outputs": []
    }
  ]
}