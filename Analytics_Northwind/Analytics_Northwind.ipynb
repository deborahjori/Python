{
  "nbformat": 4,
  "nbformat_minor": 0,
  "metadata": {
    "colab": {
      "provenance": [],
      "authorship_tag": "ABX9TyPG0ti/BrxKZGSppZQ31RY8",
      "include_colab_link": true
    },
    "kernelspec": {
      "name": "python3",
      "display_name": "Python 3"
    },
    "language_info": {
      "name": "python"
    }
  },
  "cells": [
    {
      "cell_type": "markdown",
      "metadata": {
        "id": "view-in-github",
        "colab_type": "text"
      },
      "source": [
        "<a href=\"https://colab.research.google.com/github/deborahjori/Python/blob/main/Analytics_Northwuind.ipynb\" target=\"_parent\"><img src=\"https://colab.research.google.com/assets/colab-badge.svg\" alt=\"Open In Colab\"/></a>"
      ]
    },
    {
      "cell_type": "markdown",
      "source": [
        "#Importando bibliotecas"
      ],
      "metadata": {
        "id": "5vYlrjWUmd_k"
      }
    },
    {
      "cell_type": "code",
      "execution_count": null,
      "metadata": {
        "id": "QSkh7kCJleJh"
      },
      "outputs": [],
      "source": [
        "import pandas as pd\n",
        "import numpy as np\n",
        "from datetime import datetime"
      ]
    },
    {
      "cell_type": "markdown",
      "source": [
        "#Importando fontes de dados"
      ],
      "metadata": {
        "id": "Io8h1SUzmi8o"
      }
    },
    {
      "cell_type": "code",
      "source": [
        "from google.colab import drive\n",
        "drive.mount('/content/drive')"
      ],
      "metadata": {
        "colab": {
          "base_uri": "https://localhost:8080/"
        },
        "id": "UaUn6jBAmh0N",
        "outputId": "55672834-2d74-4950-b942-b8eda8e10209"
      },
      "execution_count": null,
      "outputs": [
        {
          "output_type": "stream",
          "name": "stdout",
          "text": [
            "Drive already mounted at /content/drive; to attempt to forcibly remount, call drive.mount(\"/content/drive\", force_remount=True).\n"
          ]
        }
      ]
    },
    {
      "cell_type": "code",
      "source": [
        "categories             =  pd.read_csv('/content/drive/MyDrive/Colab Notebooks/Deborah/Desafio_Indicium/Fontes de Dados/categories.csv', sep=';', usecols = ['category_id','category_name','description'])\n",
        "##customer_customer_demo =  pd.read_csv('/content/drive/MyDrive/Colab Notebooks/Deborah/Desafio_Indicium/Fontes de Dados/customer_customer_demo.csv', sep=';')\n",
        "##customer_demographics  =  pd.read_csv('/content/drive/MyDrive/Colab Notebooks/Deborah/Desafio_Indicium/Fontes de Dados/customer_demographics.csv', sep=';')\n",
        "customers              =  pd.read_csv('/content/drive/MyDrive/Colab Notebooks/Deborah/Desafio_Indicium/Fontes de Dados/customers.csv', sep=';', usecols = ['customer_id','company_name','city','country'])\n",
        "employee_territories   =  pd.read_csv('/content/drive/MyDrive/Colab Notebooks/Deborah/Desafio_Indicium/Fontes de Dados/employee_territories.csv', sep=';')\n",
        "employees              =  pd.read_csv('/content/drive/MyDrive/Colab Notebooks/Deborah/Desafio_Indicium/Fontes de Dados/employees.csv',sep=';', usecols = ['employee_id','last_name','first_name','hire_date','title','city','country','region'] )\n",
        "order_details          =  pd.read_csv('/content/drive/MyDrive/Colab Notebooks/Deborah/Desafio_Indicium/Fontes de Dados/order_details.csv', sep=';' )\n",
        "orders                 =  pd.read_csv('/content/drive/MyDrive/Colab Notebooks/Deborah/Desafio_Indicium/Fontes de Dados/orders.csv' , sep=';', usecols = ['order_id','customer_id', 'employee_id','order_date','required_date','shipped_date','ship_via','freight', 'ship_city','ship_country'])\n",
        "products               =  pd.read_csv('/content/drive/MyDrive/Colab Notebooks/Deborah/Desafio_Indicium/Fontes de Dados/products.csv', sep=';')\n",
        "region                 =  pd.read_csv('/content/drive/MyDrive/Colab Notebooks/Deborah/Desafio_Indicium/Fontes de Dados/region.csv', sep=';')\n",
        "shippers               =  pd.read_csv('/content/drive/MyDrive/Colab Notebooks/Deborah/Desafio_Indicium/Fontes de Dados/shippers.csv', sep=';', usecols =['company_name'])\n",
        "suppliers              =  pd.read_csv('/content/drive/MyDrive/Colab Notebooks/Deborah/Desafio_Indicium/Fontes de Dados/suppliers.csv', sep=';', usecols = ['supplier_id','company_name','city','country'])\n",
        "territories            =  pd.read_csv('/content/drive/MyDrive/Colab Notebooks/Deborah/Desafio_Indicium/Fontes de Dados/territories.csv', sep=';')\n",
        "us_states              =  pd.read_csv('/content/drive/MyDrive/Colab Notebooks/Deborah/Desafio_Indicium/Fontes de Dados/us_states.csv',sep=';', usecols =['state_name','state_abbr','state_region'])"
      ],
      "metadata": {
        "id": "g_M3oAe-ymW2"
      },
      "execution_count": null,
      "outputs": []
    },
    {
      "cell_type": "markdown",
      "source": [
        "Calculando faturamento"
      ],
      "metadata": {
        "id": "zQhHNmWyJUIM"
      }
    },
    {
      "cell_type": "code",
      "source": [
        "##Criando coluna de faturamento\n",
        "order_details['sales'] = (order_details['unit_price']*order_details['quantity']) - ((order_details['unit_price']*order_details['quantity'])*order_details['discount'])"
      ],
      "metadata": {
        "id": "JtBCxh0AVCED"
      },
      "execution_count": null,
      "outputs": []
    },
    {
      "cell_type": "markdown",
      "source": [
        "#Criando dimensões"
      ],
      "metadata": {
        "id": "DR1Yi8szIH5o"
      }
    },
    {
      "cell_type": "markdown",
      "source": [
        "##Dimensão Produto"
      ],
      "metadata": {
        "id": "YRpH7FGeIjPr"
      }
    },
    {
      "cell_type": "markdown",
      "source": [
        "Considerando units_in_stock e units_on_order, como estoque atual"
      ],
      "metadata": {
        "id": "OkbS8G1pSjX9"
      }
    },
    {
      "cell_type": "code",
      "source": [
        "products['total_stock'] = products['units_in_stock'] + products['units_on_order']"
      ],
      "metadata": {
        "id": "jYX5Rd665Xt8"
      },
      "execution_count": null,
      "outputs": []
    },
    {
      "cell_type": "markdown",
      "source": [
        "Enriquecendo com dados de categorias"
      ],
      "metadata": {
        "id": "gK9qD2MSSt1n"
      }
    },
    {
      "cell_type": "code",
      "source": [
        "products_enriched = pd.merge(products, categories, how = 'left', on = 'category_id')"
      ],
      "metadata": {
        "id": "SoRlgVeEy5vp"
      },
      "execution_count": null,
      "outputs": []
    },
    {
      "cell_type": "markdown",
      "source": [
        "Enriquecendo com dados de fornecedores"
      ],
      "metadata": {
        "id": "P3bZvZoiSyJf"
      }
    },
    {
      "cell_type": "code",
      "source": [
        "products_enriched = pd.merge(products_enriched, suppliers, how = 'left', on = 'supplier_id')"
      ],
      "metadata": {
        "id": "6q7YjKZg5RCq"
      },
      "execution_count": null,
      "outputs": []
    },
    {
      "cell_type": "markdown",
      "source": [
        "Calculando dados de faturamento por produto"
      ],
      "metadata": {
        "id": "jNFNaUBcS4iu"
      }
    },
    {
      "cell_type": "code",
      "source": [
        "products_summarized = order_details.groupby(\"product_id\")[\"sales\"].sum()"
      ],
      "metadata": {
        "id": "yPaKOIZ3_vja"
      },
      "execution_count": null,
      "outputs": []
    },
    {
      "cell_type": "markdown",
      "source": [
        "Enriquecendo com dados de faturamento por produto"
      ],
      "metadata": {
        "id": "BTPKYlzWS8ae"
      }
    },
    {
      "cell_type": "code",
      "source": [
        "products_enriched = pd.merge(products_enriched, products_summarized, how = 'left', on = 'product_id')"
      ],
      "metadata": {
        "id": "4UtNCVYi_vpQ"
      },
      "execution_count": null,
      "outputs": []
    },
    {
      "cell_type": "markdown",
      "source": [
        "Normalizando dimensão produto"
      ],
      "metadata": {
        "id": "hlCeg1-2S_RO"
      }
    },
    {
      "cell_type": "code",
      "source": [
        "products_enriched.drop(columns=['category_id','supplier_id',], inplace = True)"
      ],
      "metadata": {
        "id": "CeEmgPdN74-z"
      },
      "execution_count": null,
      "outputs": []
    },
    {
      "cell_type": "code",
      "source": [
        "products_enriched.rename(columns={ 'company_name' : 'supplier',\n",
        "                                   'city'         : 'supplier_city',\n",
        "                                   'country'      : 'supplier_country',\n",
        "                                   'description'  : 'category_description',\n",
        "                                   'sales'        : 'product_sales'\n",
        "                                }, inplace = True)"
      ],
      "metadata": {
        "id": "gJJtCxgvRyxb"
      },
      "execution_count": null,
      "outputs": []
    },
    {
      "cell_type": "code",
      "source": [
        "for t in products_enriched['discontinued']:\n",
        "  if t == 0:\n",
        "    text = 'Não'\n",
        "  else:\n",
        "    text = 'Sim'\n",
        "\n",
        "  products_enriched['discontinued'].replace(t, text, inplace = True)"
      ],
      "metadata": {
        "id": "PnBhLi45djlP"
      },
      "execution_count": null,
      "outputs": []
    },
    {
      "cell_type": "markdown",
      "source": [
        "Formatando dados financeiros"
      ],
      "metadata": {
        "id": "xsxxYWLWbcro"
      }
    },
    {
      "cell_type": "code",
      "source": [
        "products_enriched['product_sales'] = products_enriched['product_sales'].round(2)           "
      ],
      "metadata": {
        "id": "DZ0YA-iZa8Bk"
      },
      "execution_count": null,
      "outputs": []
    },
    {
      "cell_type": "code",
      "source": [
        "products_enriched['product_sales'] = [str(format(value, '.2f').replace(\".\", \",\")) for value in products_enriched['product_sales']]"
      ],
      "metadata": {
        "id": "-MMtEHKva_BL"
      },
      "execution_count": null,
      "outputs": []
    },
    {
      "cell_type": "code",
      "source": [
        "products_enriched['unit_price'] = [str(format(value, '.2f').replace(\".\", \",\")) for value in products_enriched['unit_price']]"
      ],
      "metadata": {
        "id": "d2iYo-2GbSeh"
      },
      "execution_count": null,
      "outputs": []
    },
    {
      "cell_type": "markdown",
      "source": [
        "##Dimensão Funcionários por Territórios"
      ],
      "metadata": {
        "id": "jN18guVZKS6s"
      }
    },
    {
      "cell_type": "markdown",
      "source": [
        "Enriquecendo com dados de territórios "
      ],
      "metadata": {
        "id": "caR03YUQTIqZ"
      }
    },
    {
      "cell_type": "code",
      "source": [
        "employee_territory_enriched = pd.merge(employee_territories, territories, how = 'left', on = 'territory_id')"
      ],
      "metadata": {
        "id": "jzyHXyr39uNY"
      },
      "execution_count": null,
      "outputs": []
    },
    {
      "cell_type": "markdown",
      "source": [
        "Enriquecendo com dados de regiões"
      ],
      "metadata": {
        "id": "oooHyLCSTMQ4"
      }
    },
    {
      "cell_type": "code",
      "source": [
        "employee_territory_enriched = pd.merge(employee_territory_enriched, region, how = 'left', on = 'region_id')"
      ],
      "metadata": {
        "id": "jRtGQpmY9uKP"
      },
      "execution_count": null,
      "outputs": []
    },
    {
      "cell_type": "code",
      "source": [
        "employee_territory_enriched.drop(columns=['territory_id','region_id'], inplace = True)"
      ],
      "metadata": {
        "id": "LPMQyBdIBPlQ"
      },
      "execution_count": null,
      "outputs": []
    },
    {
      "cell_type": "markdown",
      "source": [
        "##Dimensão Funcionários"
      ],
      "metadata": {
        "id": "sfrMn2jKTPgj"
      }
    },
    {
      "cell_type": "code",
      "source": [
        "employee_enriched = employees"
      ],
      "metadata": {
        "id": "tHxTIBkS9uGf"
      },
      "execution_count": null,
      "outputs": []
    },
    {
      "cell_type": "markdown",
      "source": [
        "Unificando nomes"
      ],
      "metadata": {
        "id": "gXRyc3yPTSMq"
      }
    },
    {
      "cell_type": "code",
      "source": [
        "employee_enriched['employee_name'] = employee_enriched['first_name'] + ' ' + employee_enriched['last_name'] "
      ],
      "metadata": {
        "id": "LAHQpv3PLB9f"
      },
      "execution_count": null,
      "outputs": []
    },
    {
      "cell_type": "markdown",
      "source": [
        "Normalizando dimensão funcionários"
      ],
      "metadata": {
        "id": "sHu-BcxhTVd0"
      }
    },
    {
      "cell_type": "code",
      "source": [
        "employee_enriched.drop(columns=['last_name','first_name'], inplace = True)"
      ],
      "metadata": {
        "id": "_Fv2aAlSKrUc"
      },
      "execution_count": null,
      "outputs": []
    },
    {
      "cell_type": "markdown",
      "source": [
        "##Dimensão Clientes"
      ],
      "metadata": {
        "id": "xEfr_dCMpgZC"
      }
    },
    {
      "cell_type": "code",
      "source": [
        "orders_summarized = orders.groupby(\"customer_id\")[\"order_id\"].count()\n"
      ],
      "metadata": {
        "id": "9lIHJz8TBJfd"
      },
      "execution_count": null,
      "outputs": []
    },
    {
      "cell_type": "code",
      "source": [
        "customers_enriched = pd.merge(customers, orders_summarized, how = 'left', on = 'customer_id')"
      ],
      "metadata": {
        "id": "DIIT_n6bAVJB"
      },
      "execution_count": null,
      "outputs": []
    },
    {
      "cell_type": "code",
      "source": [
        "customers_enriched.rename(columns={ 'order_id' : 'qtd_order'                                 \n",
        "                                }, inplace = True)"
      ],
      "metadata": {
        "id": "cGHwGBm6CNN_"
      },
      "execution_count": null,
      "outputs": []
    },
    {
      "cell_type": "markdown",
      "source": [
        "##Dimensão Vendas"
      ],
      "metadata": {
        "id": "6ErYW_KtMUZF"
      }
    },
    {
      "cell_type": "markdown",
      "source": [
        "Sumarizando faturamento por ordem de venda"
      ],
      "metadata": {
        "id": "OGicqanFTY94"
      }
    },
    {
      "cell_type": "code",
      "source": [
        "order_details_summarized = order_details.groupby(\"order_id\")[\"sales\"].sum()"
      ],
      "metadata": {
        "id": "6RIvu8JIVCMl"
      },
      "execution_count": null,
      "outputs": []
    },
    {
      "cell_type": "markdown",
      "source": [
        "Enriquecendo com dados de faturamento sumarizados"
      ],
      "metadata": {
        "id": "WKIfY6dLTcvt"
      }
    },
    {
      "cell_type": "code",
      "source": [
        "orders_enriched = pd.merge(orders, order_details_summarized, how = 'left', on = 'order_id')"
      ],
      "metadata": {
        "id": "mJs7J_G3y0Uv"
      },
      "execution_count": null,
      "outputs": []
    },
    {
      "cell_type": "markdown",
      "source": [
        "Enriquecendo com dados de clientes"
      ],
      "metadata": {
        "id": "ccOgfVJbTgN6"
      }
    },
    {
      "cell_type": "code",
      "source": [
        "orders_enriched = pd.merge(orders_enriched, customers, how = 'left', on = 'customer_id')"
      ],
      "metadata": {
        "id": "CEJ0-Qe59t9Q"
      },
      "execution_count": null,
      "outputs": []
    },
    {
      "cell_type": "markdown",
      "source": [
        "Normalizando dimensão Vendas"
      ],
      "metadata": {
        "id": "pSu8g5faTmxD"
      }
    },
    {
      "cell_type": "code",
      "source": [
        "orders_enriched.rename(columns={ 'company_name' : 'customer',\n",
        "                                 'city'         : 'customer_city',\n",
        "                                 'country'      : 'customer_country',\n",
        "                                 'sales'      : 'order_sales',\n",
        "                                }, inplace = True)"
      ],
      "metadata": {
        "id": "REk0UyPjQeQh"
      },
      "execution_count": null,
      "outputs": []
    },
    {
      "cell_type": "markdown",
      "source": [
        "Formatando dados financeiros"
      ],
      "metadata": {
        "id": "h7vYD0-tYZnE"
      }
    },
    {
      "cell_type": "code",
      "source": [
        "orders_enriched['freight'] = [str(format(value, '.2f').replace(\".\", \",\")) for value in orders_enriched['freight']]"
      ],
      "metadata": {
        "id": "bAH9gob3YMF_"
      },
      "execution_count": null,
      "outputs": []
    },
    {
      "cell_type": "code",
      "source": [
        "orders_enriched['order_sales'] = orders_enriched['order_sales'].round(2)                 "
      ],
      "metadata": {
        "id": "y567zeNyYhHM"
      },
      "execution_count": null,
      "outputs": []
    },
    {
      "cell_type": "code",
      "source": [
        "orders_enriched['order_sales'] = [str(format(value, '.2f').replace(\".\", \",\")) for value in orders_enriched['order_sales']]"
      ],
      "metadata": {
        "id": "K7_z3Y20X2dv"
      },
      "execution_count": null,
      "outputs": []
    },
    {
      "cell_type": "markdown",
      "source": [
        "#Download das dimensões"
      ],
      "metadata": {
        "id": "S_v_fJLaTp9C"
      }
    },
    {
      "cell_type": "code",
      "source": [
        "products_enriched.to_csv('/content/product_dimension.csv', sep = ';', index = False)"
      ],
      "metadata": {
        "id": "kFXGhUzt_vgw"
      },
      "execution_count": null,
      "outputs": []
    },
    {
      "cell_type": "code",
      "source": [
        "employee_enriched.to_csv('/content/employee_dimension.csv', sep = ';', index = False)"
      ],
      "metadata": {
        "id": "GLaXJ2H8RrVz"
      },
      "execution_count": null,
      "outputs": []
    },
    {
      "cell_type": "code",
      "source": [
        "employee_territory_enriched.to_csv('/content/employee_territory_dimension.csv', sep = ';', index = False)"
      ],
      "metadata": {
        "id": "fMEcAi66BstA"
      },
      "execution_count": null,
      "outputs": []
    },
    {
      "cell_type": "code",
      "source": [
        "customers.to_csv('/content/customers_dimension.csv', sep = ';', index = False)"
      ],
      "metadata": {
        "id": "PItlUFR0qAAR"
      },
      "execution_count": null,
      "outputs": []
    },
    {
      "cell_type": "code",
      "source": [
        "orders_enriched.to_csv('/content/order_dimension.csv', sep = ';', index = False)"
      ],
      "metadata": {
        "id": "DOzeKZqHUY5E"
      },
      "execution_count": null,
      "outputs": []
    }
  ]
}